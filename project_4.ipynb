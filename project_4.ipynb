{
  "nbformat": 4,
  "nbformat_minor": 0,
  "metadata": {
    "colab": {
      "name": "2021.12.03_final_project_7_발표 준비.ipynb",
      "provenance": [],
      "collapsed_sections": [],
      "machine_shape": "hm"
    },
    "kernelspec": {
      "display_name": "Python 3",
      "name": "python3"
    },
    "language_info": {
      "name": "python"
    },
    "accelerator": "GPU"
  },
  "cells": [
    {
      "cell_type": "code",
      "metadata": {
        "id": "bDWdOI_QgBGW"
      },
      "source": [
        ""
      ],
      "execution_count": 604,
      "outputs": []
    },
    {
      "cell_type": "code",
      "metadata": {
        "id": "V1PnNaR4gxen"
      },
      "source": [
        "import os\n",
        "import pandas as pd\n",
        "import numpy as np\n",
        "import matplotlib.pyplot as plt\n",
        "import sys\n",
        "import tensorflow as tf\n",
        "from glob import glob\n",
        "from PIL import Image\n",
        "import cv2\n",
        "import numpy as np\n",
        "from sklearn.model_selection import train_test_split\n",
        "import matplotlib.pyplot as plt\n",
        "import seaborn as sns"
      ],
      "execution_count": 605,
      "outputs": []
    },
    {
      "cell_type": "code",
      "metadata": {
        "id": "Jt13Uglhgxhx"
      },
      "source": [
        "from keras.utils import np_utils\n",
        "from keras.models import Sequential\n",
        "from keras.layers import Dense\n",
        "from keras.callbacks import ModelCheckpoint, EarlyStopping\n",
        "from keras.layers import Flatten, Conv2D, MaxPooling2D, Dropout\n",
        "from keras.preprocessing.image import load_img, img_to_array, array_to_img, ImageDataGenerator # ImageDataGenerator이미지 전처리\n",
        "from tensorflow.keras import Sequential\n",
        "from tensorflow.keras import layers\n",
        "from tensorflow.keras.optimizers import RMSprop\n",
        "from keras.preprocessing.image import ImageDataGenerator"
      ],
      "execution_count": 606,
      "outputs": []
    },
    {
      "cell_type": "code",
      "metadata": {
        "colab": {
          "base_uri": "https://localhost:8080/"
        },
        "id": "25W1c53Y_aWg",
        "outputId": "b00cd993-eba3-4fad-8644-2011d4df4665"
      },
      "source": [
        "1551+950\n"
      ],
      "execution_count": 607,
      "outputs": [
        {
          "output_type": "execute_result",
          "data": {
            "text/plain": [
              "2501"
            ]
          },
          "metadata": {},
          "execution_count": 607
        }
      ]
    },
    {
      "cell_type": "markdown",
      "metadata": {
        "id": "FcGjPvJajHF7"
      },
      "source": [
        "# 전처리 "
      ]
    },
    {
      "cell_type": "markdown",
      "metadata": {
        "id": "l8riWmSJc20F"
      },
      "source": [
        "# 불러올 사이즈 지정"
      ]
    },
    {
      "cell_type": "code",
      "metadata": {
        "id": "l1Im3_lEgxnI"
      },
      "source": [
        "# target_size\n",
        "target_x=224\n",
        "target_y=224"
      ],
      "execution_count": 608,
      "outputs": []
    },
    {
      "cell_type": "markdown",
      "metadata": {
        "id": "F6CwcGlYhNPX"
      },
      "source": [
        "# 전처리 첫번째"
      ]
    },
    {
      "cell_type": "markdown",
      "metadata": {
        "id": "JWPOjuEUc_C-"
      },
      "source": [
        "첫번째 파일의 출혈"
      ]
    },
    {
      "cell_type": "code",
      "metadata": {
        "id": "TNEjAmTcgxs1"
      },
      "source": [
        "imgs_1_1 = glob('/content/drive/MyDrive/파이널 프로젝트_내꺼/CT데이터/100출혈, 100정상/100출혈/*.png')\n",
        "# imgs[:100]"
      ],
      "execution_count": 609,
      "outputs": []
    },
    {
      "cell_type": "code",
      "metadata": {
        "id": "0Lmg_vcegxvs"
      },
      "source": [
        "# # 괜찮음 이걸로 감\n",
        "xtrain_1_1=[]\n",
        "for i in range(len(imgs_1_1)):\n",
        "    xtrain_1_1.append(np.array(load_img(imgs_1_1[i],target_size=(target_x,target_y),color_mode = \"grayscale\")))  #Image는 열이 이상하게 생성되니 로드 이미지로 함.\n",
        "    # color_mode를 흑백으로 줌으로써 1로 만든다."
      ],
      "execution_count": 610,
      "outputs": []
    },
    {
      "cell_type": "code",
      "metadata": {
        "id": "LxawibJkXAkI"
      },
      "source": [
        "imgs_1_2 = glob('/content/drive/MyDrive/파이널 프로젝트_내꺼/CT데이터/100출혈, 100정상/100정상/*.png')\n",
        "# imgs[:100]"
      ],
      "execution_count": 611,
      "outputs": []
    },
    {
      "cell_type": "markdown",
      "metadata": {
        "id": "bUFd08gTdDFl"
      },
      "source": [
        "두번째 파일의 정상"
      ]
    },
    {
      "cell_type": "code",
      "metadata": {
        "id": "njBg1Iv5XAv3"
      },
      "source": [
        "# # 괜찮음 이걸로 감\n",
        "xtrain_1_2=[]\n",
        "for i in range(len(imgs_1_2)):\n",
        "    xtrain_1_2.append(np.array(load_img(imgs_1_2[i],target_size=(target_x,target_y),color_mode = \"grayscale\")))  #Image는 열이 이상하게 생성되니 로드 이미지로 함."
      ],
      "execution_count": 612,
      "outputs": []
    },
    {
      "cell_type": "markdown",
      "metadata": {
        "id": "8C7o31TadF7j"
      },
      "source": [
        "출혈, 정상 합성 "
      ]
    },
    {
      "cell_type": "code",
      "metadata": {
        "id": "IKxboocHXA6h"
      },
      "source": [
        "xtrain_1=np.concatenate((xtrain_1_1,xtrain_1_2),axis=0) # xtrain_1_1과 1_2 합침"
      ],
      "execution_count": 613,
      "outputs": []
    },
    {
      "cell_type": "code",
      "metadata": {
        "colab": {
          "base_uri": "https://localhost:8080/"
        },
        "id": "67CCXUwsgx1b",
        "outputId": "463d503f-b92f-4bf7-95e6-a3f87040ba0e"
      },
      "source": [
        "np.shape(xtrain_1)"
      ],
      "execution_count": 614,
      "outputs": [
        {
          "output_type": "execute_result",
          "data": {
            "text/plain": [
              "(200, 224, 224)"
            ]
          },
          "metadata": {},
          "execution_count": 614
        }
      ]
    },
    {
      "cell_type": "code",
      "metadata": {
        "id": "52kXhbYVgx4R"
      },
      "source": [
        ""
      ],
      "execution_count": 614,
      "outputs": []
    },
    {
      "cell_type": "code",
      "metadata": {
        "colab": {
          "base_uri": "https://localhost:8080/",
          "height": 268
        },
        "id": "D4jgDNXBgx7B",
        "outputId": "2bcd326a-891e-4b86-92db-15e8dc2862a8"
      },
      "source": [
        "# 잘 나옴 이걸로 함.\n",
        "plt.imshow(xtrain_1[2], cmap=\"gray\")\n",
        "plt.show()"
      ],
      "execution_count": 615,
      "outputs": [
        {
          "output_type": "display_data",
          "data": {
            "image/png": "[encoded data removed]",
            "text/plain": [
              "<Figure size 432x288 with 1 Axes>"
            ]
          },
          "metadata": {
            "needs_background": "light"
          }
        }
      ]
    },
    {
      "cell_type": "code",
      "metadata": {
        "colab": {
          "base_uri": "https://localhost:8080/",
          "height": 423
        },
        "id": "B-Kyu9Ubgx9v",
        "outputId": "95993e4c-7a2d-4623-cd15-d2d7db36f3c6"
      },
      "source": [
        "# 라벨 데이터 리드\n",
        "label_1=pd.read_csv(\"/content/drive/MyDrive/파이널 프로젝트_내꺼/CT데이터/100출혈, 100정상/labels.csv\")\n",
        "label_1"
      ],
      "execution_count": 616,
      "outputs": [
        {
          "output_type": "execute_result",
          "data": {
            "text/html": [
              "<div>\n",
              "<style scoped>\n",
              "    .dataframe tbody tr th:only-of-type {\n",
              "        vertical-align: middle;\n",
              "    }\n",
              "\n",
              "    .dataframe tbody tr th {\n",
              "        vertical-align: top;\n",
              "    }\n",
              "\n",
              "    .dataframe thead th {\n",
              "        text-align: right;\n",
              "    }\n",
              "</style>\n",
              "<table border=\"1\" class=\"dataframe\">\n",
              "  <thead>\n",
              "    <tr style=\"text-align: right;\">\n",
              "      <th></th>\n",
              "      <th>id</th>\n",
              "      <th>hemorrhage</th>\n",
              "    </tr>\n",
              "  </thead>\n",
              "  <tbody>\n",
              "    <tr>\n",
              "      <th>0</th>\n",
              "      <td>0</td>\n",
              "      <td>1</td>\n",
              "    </tr>\n",
              "    <tr>\n",
              "      <th>1</th>\n",
              "      <td>1</td>\n",
              "      <td>1</td>\n",
              "    </tr>\n",
              "    <tr>\n",
              "      <th>2</th>\n",
              "      <td>2</td>\n",
              "      <td>1</td>\n",
              "    </tr>\n",
              "    <tr>\n",
              "      <th>3</th>\n",
              "      <td>3</td>\n",
              "      <td>1</td>\n",
              "    </tr>\n",
              "    <tr>\n",
              "      <th>4</th>\n",
              "      <td>4</td>\n",
              "      <td>1</td>\n",
              "    </tr>\n",
              "    <tr>\n",
              "      <th>...</th>\n",
              "      <td>...</td>\n",
              "      <td>...</td>\n",
              "    </tr>\n",
              "    <tr>\n",
              "      <th>195</th>\n",
              "      <td>195</td>\n",
              "      <td>0</td>\n",
              "    </tr>\n",
              "    <tr>\n",
              "      <th>196</th>\n",
              "      <td>196</td>\n",
              "      <td>0</td>\n",
              "    </tr>\n",
              "    <tr>\n",
              "      <th>197</th>\n",
              "      <td>197</td>\n",
              "      <td>0</td>\n",
              "    </tr>\n",
              "    <tr>\n",
              "      <th>198</th>\n",
              "      <td>198</td>\n",
              "      <td>0</td>\n",
              "    </tr>\n",
              "    <tr>\n",
              "      <th>199</th>\n",
              "      <td>199</td>\n",
              "      <td>0</td>\n",
              "    </tr>\n",
              "  </tbody>\n",
              "</table>\n",
              "<p>200 rows × 2 columns</p>\n",
              "</div>"
            ],
            "text/plain": [
              "      id   hemorrhage\n",
              "0      0            1\n",
              "1      1            1\n",
              "2      2            1\n",
              "3      3            1\n",
              "4      4            1\n",
              "..   ...          ...\n",
              "195  195            0\n",
              "196  196            0\n",
              "197  197            0\n",
              "198  198            0\n",
              "199  199            0\n",
              "\n",
              "[200 rows x 2 columns]"
            ]
          },
          "metadata": {},
          "execution_count": 616
        }
      ]
    },
    {
      "cell_type": "code",
      "metadata": {
        "id": "2BTgjAo2gyBR"
      },
      "source": [
        "ytrain_1=list(label_1[\" hemorrhage\"])\n",
        "# 1은 출혈, 0은 정상"
      ],
      "execution_count": 617,
      "outputs": []
    },
    {
      "cell_type": "code",
      "metadata": {
        "colab": {
          "base_uri": "https://localhost:8080/"
        },
        "id": "Zn5aAEI4gyD2",
        "outputId": "5750d7fa-2730-4b08-88a6-8fc7cc47f5b0"
      },
      "source": [
        "ytrain_1[99]"
      ],
      "execution_count": 618,
      "outputs": [
        {
          "output_type": "execute_result",
          "data": {
            "text/plain": [
              "1"
            ]
          },
          "metadata": {},
          "execution_count": 618
        }
      ]
    },
    {
      "cell_type": "code",
      "metadata": {
        "colab": {
          "base_uri": "https://localhost:8080/"
        },
        "id": "0jlzJ-w2gyGp",
        "outputId": "7cae0c3e-4f60-4c75-c7af-a9733c6227f7"
      },
      "source": [
        "ytrain_1[100]"
      ],
      "execution_count": 619,
      "outputs": [
        {
          "output_type": "execute_result",
          "data": {
            "text/plain": [
              "0"
            ]
          },
          "metadata": {},
          "execution_count": 619
        }
      ]
    },
    {
      "cell_type": "markdown",
      "metadata": {
        "id": "uduX6ew9VdkD"
      },
      "source": [
        "# 이미지를 다른 이미지 파일과 합침"
      ]
    },
    {
      "cell_type": "markdown",
      "metadata": {
        "id": "9l1UQoJJdh02"
      },
      "source": [
        "# 이미지 데이터 확인 0~99는 출혈, 이후 부터는 정상"
      ]
    },
    {
      "cell_type": "code",
      "metadata": {
        "colab": {
          "base_uri": "https://localhost:8080/",
          "height": 287
        },
        "id": "qixVQSqlTRoy",
        "outputId": "686ab2ba-c053-4382-b410-e1f278354e56"
      },
      "source": [
        "plt.subplot(2,2,1) # 수치적으로 점점 초록색 - 높은 값이 노랑색쪽 밝아진다. \n",
        "plt.imshow(xtrain_1[2]) \n",
        "plt.subplot(2,2,2) \n",
        "plt.imshow(xtrain_1[101]) # 흑백 plt.show()\n",
        "\n",
        "plt.subplot(2,2,3) # 수치적으로 점점 초록색 - 높은 값이 노랑색쪽 밝아진다. \n",
        "plt.imshow(xtrain_1[4],cmap=\"gray\") \n",
        "plt.subplot(2,2,4) \n",
        "plt.imshow(xtrain_1[104],cmap=\"gray\") # 흑백 plt.show()"
      ],
      "execution_count": 620,
      "outputs": [
        {
          "output_type": "execute_result",
          "data": {
            "text/plain": [
              "<matplotlib.image.AxesImage at 0x7f9ba9836a90>"
            ]
          },
          "metadata": {},
          "execution_count": 620
        },
        {
          "output_type": "display_data",
          "data": {
            "image/png": "[encoded data removed]",
            "text/plain": [
              "<Figure size 432x288 with 4 Axes>"
            ]
          },
          "metadata": {
            "needs_background": "light"
          }
        }
      ]
    },
    {
      "cell_type": "code",
      "metadata": {
        "id": "5FLQS54ATRwj"
      },
      "source": [
        ""
      ],
      "execution_count": 620,
      "outputs": []
    },
    {
      "cell_type": "markdown",
      "metadata": {
        "id": "2rayaPvfhsRd"
      },
      "source": [
        "# 첫번째 종료 ======================================================================\n",
        "\n",
        "# 두번째 시작 =========================================================================="
      ]
    },
    {
      "cell_type": "code",
      "metadata": {
        "id": "z5k8deS4gyP0"
      },
      "source": [
        "# 정상 파일임\n",
        "# imgs_2 = glob('/content/drive/MyDrive/파이널 프로젝트_내꺼/CT데이터/정상 81, 출혈 39/Brain_Data_Organised/Normal_정상_81/*.jpg')\n",
        "# len(imgs_2)\n",
        "# imgs_2[1]"
      ],
      "execution_count": 621,
      "outputs": []
    },
    {
      "cell_type": "code",
      "metadata": {
        "id": "SKC9W773gyS6"
      },
      "source": [
        "\n",
        "# xtrain_2=[]\n",
        "# for i in range(len(imgs_2)):\n",
        "#     xtrain_2.append(np.array(load_img(imgs_2[i],target_size=(target_x,target_y),color_mode = \"grayscale\")))\n"
      ],
      "execution_count": 622,
      "outputs": []
    },
    {
      "cell_type": "code",
      "metadata": {
        "id": "hLJTtaHsgyVs"
      },
      "source": [
        "# ytrain_2=[]\n",
        "# for i in range(len(imgs_2)):\n",
        "#     ytrain_2.insert(i,0) # i번째 인덱스에 0을 채움 1551개가 모두 정상이니 정상 0을 넣음.\n",
        "    "
      ],
      "execution_count": 623,
      "outputs": []
    },
    {
      "cell_type": "code",
      "metadata": {
        "id": "9SluIOuHgzl3"
      },
      "source": [
        "# np.shape(xtrain_2) # (1551, 64, 64)"
      ],
      "execution_count": 624,
      "outputs": []
    },
    {
      "cell_type": "markdown",
      "metadata": {
        "id": "cDyYyAPnh6Yu"
      },
      "source": [
        "# 두번째 종료 ==========================================================================\n",
        "\n",
        "# 세번째 시작 ======================================================================================"
      ]
    },
    {
      "cell_type": "code",
      "metadata": {
        "id": "iSjiefy5gzyL"
      },
      "source": [
        "# 이건 출혈 상태.\n",
        "\n",
        "# imgs_3 = glob('/content/drive/MyDrive/파이널 프로젝트_내꺼/CT데이터/정상 81, 출혈 39/Brain_Data_Organised/Stroke_출혈 39/*.jpg')\n",
        "# len(imgs_3)"
      ],
      "execution_count": 625,
      "outputs": []
    },
    {
      "cell_type": "code",
      "metadata": {
        "id": "esrD1CK0gz1S"
      },
      "source": [
        "# xtrain_3=[]\n",
        "# for i in range(len(imgs_3)):\n",
        "#     xtrain_3.append(np.array(load_img(imgs_3[i],target_size=(target_x,target_y),color_mode = \"grayscale\")))"
      ],
      "execution_count": 626,
      "outputs": []
    },
    {
      "cell_type": "code",
      "metadata": {
        "id": "O25MB6yWgz4h"
      },
      "source": [
        "# ytrain_3=[]\n",
        "# for i in range(len(imgs_3)):\n",
        "#     ytrain_3.insert(i,1) # i번째 인덱스에 1을 채움 950개를 모두 1로 채움 출혈이기에 1"
      ],
      "execution_count": 627,
      "outputs": []
    },
    {
      "cell_type": "code",
      "metadata": {
        "id": "8nf_7pl4gz_B"
      },
      "source": [
        "# np.shape(xtrain_3)"
      ],
      "execution_count": 628,
      "outputs": []
    },
    {
      "cell_type": "markdown",
      "metadata": {
        "id": "5IAyXmGSiCuY"
      },
      "source": [
        "# 세번째 종료 ==========================================================================\n",
        "\n",
        "# 네번째 시작 ======================================================================================"
      ]
    },
    {
      "cell_type": "code",
      "metadata": {
        "id": "6S6NCkL-g0Iq",
        "colab": {
          "base_uri": "https://localhost:8080/"
        },
        "outputId": "c4950dd9-15d2-49a1-f287-b869804090f3"
      },
      "source": [
        "# 이건 출혈 상태임. 트레인 출혈 1 정상 0\n",
        "\n",
        "imgs_4 = glob('/content/drive/MyDrive/파이널 프로젝트_내꺼/CT데이터/1000출혈, 1000정상/Train/Hemorrhage/hemorrhage_images/*.jpg')\n",
        "len(imgs_4)"
      ],
      "execution_count": 629,
      "outputs": [
        {
          "output_type": "execute_result",
          "data": {
            "text/plain": [
              "825"
            ]
          },
          "metadata": {},
          "execution_count": 629
        }
      ]
    },
    {
      "cell_type": "code",
      "metadata": {
        "id": "HI4qGSi_g0Lz"
      },
      "source": [
        "xtrain_4=[]\n",
        "for i in range(len(imgs_4)):\n",
        "    xtrain_4.append(np.array(load_img(imgs_4[i],target_size=(target_x,target_y),color_mode = \"grayscale\")))"
      ],
      "execution_count": 630,
      "outputs": []
    },
    {
      "cell_type": "code",
      "metadata": {
        "id": "v-mCaZ5Vg0bt",
        "colab": {
          "base_uri": "https://localhost:8080/"
        },
        "outputId": "5846c165-ee21-47c0-8c34-d5c1ab32d0ae"
      },
      "source": [
        "np.shape(xtrain_4)"
      ],
      "execution_count": 631,
      "outputs": [
        {
          "output_type": "execute_result",
          "data": {
            "text/plain": [
              "(825, 224, 224)"
            ]
          },
          "metadata": {},
          "execution_count": 631
        }
      ]
    },
    {
      "cell_type": "code",
      "metadata": {
        "id": "3m3o7i7TiJYJ"
      },
      "source": [
        "ytrain_4=[]\n",
        "for i in range(len(imgs_4)):\n",
        "    ytrain_4.insert(i,1) # i번째 인덱스에 1을 채움 825개 1"
      ],
      "execution_count": 632,
      "outputs": []
    },
    {
      "cell_type": "code",
      "metadata": {
        "id": "2ROui2OgiJbG",
        "colab": {
          "base_uri": "https://localhost:8080/"
        },
        "outputId": "c4f0dba2-7ca7-4adf-ccdc-5ead28366a87"
      },
      "source": [
        "len(ytrain_4)"
      ],
      "execution_count": 633,
      "outputs": [
        {
          "output_type": "execute_result",
          "data": {
            "text/plain": [
              "825"
            ]
          },
          "metadata": {},
          "execution_count": 633
        }
      ]
    },
    {
      "cell_type": "markdown",
      "metadata": {
        "id": "lT2kedgUiTeq"
      },
      "source": [
        "#+ 네번째 종료 ==========================================================================\n",
        "\n",
        "# 다섯번째 시작 ======================================================================================"
      ]
    },
    {
      "cell_type": "code",
      "metadata": {
        "id": "ZcrkDSxJiJg6",
        "colab": {
          "base_uri": "https://localhost:8080/"
        },
        "outputId": "e505cc97-bdc7-4b5e-c3b7-4a6216ff1554"
      },
      "source": [
        "# 이건 정상 상태임. 트레인 출혈 1 정상 0\n",
        "\n",
        "imgs_5 = glob('/content/drive/MyDrive/파이널 프로젝트_내꺼/CT데이터/1000출혈, 1000정상/Train/Normal/normal_images/*.jpg')\n",
        "len(imgs_5)"
      ],
      "execution_count": 634,
      "outputs": [
        {
          "output_type": "execute_result",
          "data": {
            "text/plain": [
              "1426"
            ]
          },
          "metadata": {},
          "execution_count": 634
        }
      ]
    },
    {
      "cell_type": "code",
      "metadata": {
        "id": "Pkx7ORytiJj8"
      },
      "source": [
        "xtrain_5=[]\n",
        "for i in range(len(imgs_5)):\n",
        "    xtrain_5.append(np.array(load_img(imgs_5[i],target_size=(target_x,target_y),color_mode = \"grayscale\")))"
      ],
      "execution_count": 635,
      "outputs": []
    },
    {
      "cell_type": "code",
      "metadata": {
        "id": "uDNr285biJqx",
        "colab": {
          "base_uri": "https://localhost:8080/"
        },
        "outputId": "dcb956c0-066d-482e-d480-11142b4fe3f8"
      },
      "source": [
        "np.shape(xtrain_5)"
      ],
      "execution_count": 636,
      "outputs": [
        {
          "output_type": "execute_result",
          "data": {
            "text/plain": [
              "(1426, 224, 224)"
            ]
          },
          "metadata": {},
          "execution_count": 636
        }
      ]
    },
    {
      "cell_type": "code",
      "metadata": {
        "id": "jPj_XQlGiJti"
      },
      "source": [
        "ytrain_5=[]\n",
        "for i in range(len(imgs_5)):\n",
        "    ytrain_5.insert(i,0) # i번째 인덱스에 0을 채워줌 1426개 이건 정상이라 0"
      ],
      "execution_count": 637,
      "outputs": []
    },
    {
      "cell_type": "code",
      "metadata": {
        "id": "mfBSnMutiJww",
        "colab": {
          "base_uri": "https://localhost:8080/"
        },
        "outputId": "0f1bd13c-be67-4875-f228-b5a20b98a781"
      },
      "source": [
        "len(ytrain_5)\n"
      ],
      "execution_count": 638,
      "outputs": [
        {
          "output_type": "execute_result",
          "data": {
            "text/plain": [
              "1426"
            ]
          },
          "metadata": {},
          "execution_count": 638
        }
      ]
    },
    {
      "cell_type": "markdown",
      "metadata": {
        "id": "3MhX94E1ibo6"
      },
      "source": [
        "# 다섯번째 종료 ==========================================================================\n",
        "\n",
        "# 테스트_1 시작 +++++++++++++++++++++++++++++++++++++++++++++++++++++++++++++++++++++++++++++\n"
      ]
    },
    {
      "cell_type": "code",
      "metadata": {
        "colab": {
          "base_uri": "https://localhost:8080/"
        },
        "id": "ENErXYTtiJ9c",
        "outputId": "8321c3ad-846c-412b-bd94-de6f7edf1068"
      },
      "source": [
        "# 이건 출혈 상태임. 테스트 출혈 1 정상 0\n",
        "\n",
        "imgs_6 = glob('/content/drive/MyDrive/파이널 프로젝트_내꺼/CT데이터/1000출혈, 1000정상/Test/Hemorrhage/hemorrhage_images/*.jpg')\n",
        "len(imgs_6)"
      ],
      "execution_count": 639,
      "outputs": [
        {
          "output_type": "execute_result",
          "data": {
            "text/plain": [
              "125"
            ]
          },
          "metadata": {},
          "execution_count": 639
        }
      ]
    },
    {
      "cell_type": "code",
      "metadata": {
        "id": "wtkpd1eWiKAT"
      },
      "source": [
        "xtest_1=[]\n",
        "for i in range(len(imgs_6)):\n",
        "    xtest_1.append(np.array(load_img(imgs_6[i],target_size=(target_x,target_y),color_mode = \"grayscale\")))"
      ],
      "execution_count": 640,
      "outputs": []
    },
    {
      "cell_type": "code",
      "metadata": {
        "colab": {
          "base_uri": "https://localhost:8080/"
        },
        "id": "kQm_6-ZHiKGq",
        "outputId": "2eeb1c54-27bf-4b9c-c150-139c68c83fa7"
      },
      "source": [
        "np.shape(xtest_1)"
      ],
      "execution_count": 641,
      "outputs": [
        {
          "output_type": "execute_result",
          "data": {
            "text/plain": [
              "(125, 224, 224)"
            ]
          },
          "metadata": {},
          "execution_count": 641
        }
      ]
    },
    {
      "cell_type": "code",
      "metadata": {
        "id": "MOCVfI9giKJ9"
      },
      "source": [
        "ytest_1=[]\n",
        "for i in range(len(imgs_6)):\n",
        "    ytest_1.insert(i,1) # i번째 인덱스에 1을 채워줌 이건 출혈이라 1 125개"
      ],
      "execution_count": 642,
      "outputs": []
    },
    {
      "cell_type": "code",
      "metadata": {
        "colab": {
          "base_uri": "https://localhost:8080/"
        },
        "id": "MvzETw65iKMz",
        "outputId": "e6f7b2fb-9f38-41f2-dc86-76843c1b1a51"
      },
      "source": [
        "len(ytest_1)"
      ],
      "execution_count": 643,
      "outputs": [
        {
          "output_type": "execute_result",
          "data": {
            "text/plain": [
              "125"
            ]
          },
          "metadata": {},
          "execution_count": 643
        }
      ]
    },
    {
      "cell_type": "markdown",
      "metadata": {
        "id": "wOX-Eurzij1j"
      },
      "source": [
        "# 테스트_1 종료 +++++++++++++++++++++++++++++++++++++++++++++++++++++++++++++++++++++++++++++\n",
        "\n",
        "# 테스트_2 시작 +++++++++++++++++++++++++++++++++++++++++++++++++++++++++++++++++++++++++++++++++++++"
      ]
    },
    {
      "cell_type": "code",
      "metadata": {
        "colab": {
          "base_uri": "https://localhost:8080/"
        },
        "id": "gYXyg_0_iKTM",
        "outputId": "0229904b-eda3-42b8-d159-71bb91e946d7"
      },
      "source": [
        "# 이건 정상 상태임. 테스트 출혈 1 정상 0\n",
        "\n",
        "imgs_7 = glob('/content/drive/MyDrive/파이널 프로젝트_내꺼/CT데이터/1000출혈, 1000정상/Test/Normal/normal_images/*.jpg')\n",
        "len(imgs_7)"
      ],
      "execution_count": 644,
      "outputs": [
        {
          "output_type": "execute_result",
          "data": {
            "text/plain": [
              "125"
            ]
          },
          "metadata": {},
          "execution_count": 644
        }
      ]
    },
    {
      "cell_type": "code",
      "metadata": {
        "id": "TrqZrWL_iKV9"
      },
      "source": [
        "xtest_2=[]\n",
        "for i in range(len(imgs_7)):\n",
        "    xtest_2.append(np.array(load_img(imgs_7[i],target_size=(target_x,target_y),color_mode = \"grayscale\")))"
      ],
      "execution_count": 645,
      "outputs": []
    },
    {
      "cell_type": "code",
      "metadata": {
        "id": "97ncWladiKZP"
      },
      "source": [
        "ytest_2=[]\n",
        "for i in range(len(imgs_7)):\n",
        "    ytest_2.insert(i,0) # i번째 인덱스에 0을 채워줌 이건 정상이기 때문에 0 임."
      ],
      "execution_count": 646,
      "outputs": []
    },
    {
      "cell_type": "code",
      "metadata": {
        "colab": {
          "base_uri": "https://localhost:8080/"
        },
        "id": "lvDD016AiKcO",
        "outputId": "a9b92ac7-dbd1-4570-ca31-dd21eff19c63"
      },
      "source": [
        "len(ytest_2)"
      ],
      "execution_count": 647,
      "outputs": [
        {
          "output_type": "execute_result",
          "data": {
            "text/plain": [
              "125"
            ]
          },
          "metadata": {},
          "execution_count": 647
        }
      ]
    },
    {
      "cell_type": "code",
      "metadata": {
        "colab": {
          "base_uri": "https://localhost:8080/"
        },
        "id": "zd9JRgCSiKfT",
        "outputId": "769e90fa-d33c-4e4e-8eaa-60108b68c7a5"
      },
      "source": [
        "np.shape(xtest_2)"
      ],
      "execution_count": 648,
      "outputs": [
        {
          "output_type": "execute_result",
          "data": {
            "text/plain": [
              "(125, 224, 224)"
            ]
          },
          "metadata": {},
          "execution_count": 648
        }
      ]
    },
    {
      "cell_type": "markdown",
      "metadata": {
        "id": "mlh7KxeVirGn"
      },
      "source": [
        "# 트레인, 테스트 데이터 분할 완료 \n",
        "# 합치는 작업 시작"
      ]
    },
    {
      "cell_type": "markdown",
      "metadata": {
        "id": "Cl1lpxtJfVWL"
      },
      "source": [
        "데이터 모양 확인"
      ]
    },
    {
      "cell_type": "code",
      "metadata": {
        "colab": {
          "base_uri": "https://localhost:8080/"
        },
        "id": "Ug2wttiEiKob",
        "outputId": "6fa0a958-4e04-4b6b-eebb-8770c5699507"
      },
      "source": [
        "np.shape(xtrain_1) # 유지"
      ],
      "execution_count": 649,
      "outputs": [
        {
          "output_type": "execute_result",
          "data": {
            "text/plain": [
              "(200, 224, 224)"
            ]
          },
          "metadata": {},
          "execution_count": 649
        }
      ]
    },
    {
      "cell_type": "code",
      "metadata": {
        "colab": {
          "base_uri": "https://localhost:8080/"
        },
        "id": "Rhju6S0QiKrm",
        "outputId": "c95dc359-dc4d-4265-864f-c3183da04666"
      },
      "source": [
        "np.shape(xtrain_2)  # 삭제"
      ],
      "execution_count": 650,
      "outputs": [
        {
          "output_type": "execute_result",
          "data": {
            "text/plain": [
              "(1551, 64, 64)"
            ]
          },
          "metadata": {},
          "execution_count": 650
        }
      ]
    },
    {
      "cell_type": "code",
      "metadata": {
        "id": "3kdI2JFtiKua",
        "colab": {
          "base_uri": "https://localhost:8080/"
        },
        "outputId": "6f007b3f-486c-452c-ace2-14f1c1018763"
      },
      "source": [
        "np.shape(xtrain_3) # 삭제"
      ],
      "execution_count": 651,
      "outputs": [
        {
          "output_type": "execute_result",
          "data": {
            "text/plain": [
              "(950, 64, 64)"
            ]
          },
          "metadata": {},
          "execution_count": 651
        }
      ]
    },
    {
      "cell_type": "code",
      "metadata": {
        "id": "GwQAnXKTiKxw",
        "colab": {
          "base_uri": "https://localhost:8080/"
        },
        "outputId": "996c6dd5-366e-4ee9-f8f9-39b0237f687b"
      },
      "source": [
        "np.shape(xtrain_4)  # 유지"
      ],
      "execution_count": 652,
      "outputs": [
        {
          "output_type": "execute_result",
          "data": {
            "text/plain": [
              "(825, 224, 224)"
            ]
          },
          "metadata": {},
          "execution_count": 652
        }
      ]
    },
    {
      "cell_type": "code",
      "metadata": {
        "id": "DK9VApluiK0s",
        "colab": {
          "base_uri": "https://localhost:8080/"
        },
        "outputId": "8c4bcaa2-f832-42c9-f9ab-9ca8db8ff520"
      },
      "source": [
        "np.shape(xtrain_5) # 유지"
      ],
      "execution_count": 653,
      "outputs": [
        {
          "output_type": "execute_result",
          "data": {
            "text/plain": [
              "(1426, 224, 224)"
            ]
          },
          "metadata": {},
          "execution_count": 653
        }
      ]
    },
    {
      "cell_type": "code",
      "metadata": {
        "id": "gwiX7I8NiK4A",
        "colab": {
          "base_uri": "https://localhost:8080/"
        },
        "outputId": "f55dc56d-414e-4ba3-87d1-844c11fd38ee"
      },
      "source": [
        "np.shape(xtest_1) # 유지"
      ],
      "execution_count": 654,
      "outputs": [
        {
          "output_type": "execute_result",
          "data": {
            "text/plain": [
              "(125, 224, 224)"
            ]
          },
          "metadata": {},
          "execution_count": 654
        }
      ]
    },
    {
      "cell_type": "code",
      "metadata": {
        "id": "srgY4rf2iK6-",
        "colab": {
          "base_uri": "https://localhost:8080/"
        },
        "outputId": "8d879f73-8558-4177-f928-4f0a47e23491"
      },
      "source": [
        "np.shape(xtest_2)  # 유지"
      ],
      "execution_count": 655,
      "outputs": [
        {
          "output_type": "execute_result",
          "data": {
            "text/plain": [
              "(125, 224, 224)"
            ]
          },
          "metadata": {},
          "execution_count": 655
        }
      ]
    },
    {
      "cell_type": "markdown",
      "metadata": {
        "id": "ZY3glgfCfanV"
      },
      "source": [
        "데이터가 정상적으로 들어간것 확인"
      ]
    },
    {
      "cell_type": "code",
      "metadata": {
        "id": "8N0vlTaliK9x"
      },
      "source": [
        "imsi_1=np.concatenate((xtrain_1,xtrain_4),axis=0) # xtrain_1과 _2 합침"
      ],
      "execution_count": 656,
      "outputs": []
    },
    {
      "cell_type": "code",
      "metadata": {
        "id": "3tLaffKqiLA7"
      },
      "source": [
        "# imsi_2=np.concatenate((imsi_1,xtrain_3),axis=0) # (xtrain과 _2 )+_3합침"
      ],
      "execution_count": 657,
      "outputs": []
    },
    {
      "cell_type": "code",
      "metadata": {
        "id": "Q_oFf260iLEB"
      },
      "source": [
        "# imsi_3=np.concatenate((imsi_2,xtrain_4),axis=0)"
      ],
      "execution_count": 658,
      "outputs": []
    },
    {
      "cell_type": "code",
      "metadata": {
        "id": "5cbk7CRwiLG6"
      },
      "source": [
        "imsi_4=np.concatenate((imsi_1,xtrain_5),axis=0)"
      ],
      "execution_count": 659,
      "outputs": []
    },
    {
      "cell_type": "code",
      "metadata": {
        "id": "VK71jExniLJ-",
        "colab": {
          "base_uri": "https://localhost:8080/"
        },
        "outputId": "b071892d-9090-403c-dea5-92f5b97c9ccc"
      },
      "source": [
        "imsi_4.shape"
      ],
      "execution_count": 660,
      "outputs": [
        {
          "output_type": "execute_result",
          "data": {
            "text/plain": [
              "(2451, 224, 224)"
            ]
          },
          "metadata": {},
          "execution_count": 660
        }
      ]
    },
    {
      "cell_type": "code",
      "metadata": {
        "id": "-ctspo3CWQDl"
      },
      "source": [
        ""
      ],
      "execution_count": 660,
      "outputs": []
    },
    {
      "cell_type": "code",
      "metadata": {
        "id": "IecQkDdviLNF",
        "colab": {
          "base_uri": "https://localhost:8080/"
        },
        "outputId": "3ca423ba-3be0-423a-ab8b-fefe999d5c81"
      },
      "source": [
        "np.shape(imsi_4)"
      ],
      "execution_count": 661,
      "outputs": [
        {
          "output_type": "execute_result",
          "data": {
            "text/plain": [
              "(2451, 224, 224)"
            ]
          },
          "metadata": {},
          "execution_count": 661
        }
      ]
    },
    {
      "cell_type": "code",
      "metadata": {
        "id": "fXtRGzKHiLQW"
      },
      "source": [
        "xtrain_all=imsi_4"
      ],
      "execution_count": 662,
      "outputs": []
    },
    {
      "cell_type": "code",
      "metadata": {
        "id": "COjTrXJaiLTc"
      },
      "source": [
        "ytrain_all=ytrain_1+ytrain_4+ytrain_5"
      ],
      "execution_count": 663,
      "outputs": []
    },
    {
      "cell_type": "code",
      "metadata": {
        "id": "DGIsVBj5iLWV",
        "colab": {
          "base_uri": "https://localhost:8080/"
        },
        "outputId": "26dd7460-8325-4180-924c-1fdb2755540b"
      },
      "source": [
        "len(ytrain_all)"
      ],
      "execution_count": 664,
      "outputs": [
        {
          "output_type": "execute_result",
          "data": {
            "text/plain": [
              "2451"
            ]
          },
          "metadata": {},
          "execution_count": 664
        }
      ]
    },
    {
      "cell_type": "code",
      "metadata": {
        "id": "ew75If6LiLZl",
        "colab": {
          "base_uri": "https://localhost:8080/"
        },
        "outputId": "c95a0b31-7566-482e-ab0c-c543d2fc36a8"
      },
      "source": [
        "np.shape(xtrain_all)"
      ],
      "execution_count": 665,
      "outputs": [
        {
          "output_type": "execute_result",
          "data": {
            "text/plain": [
              "(2451, 224, 224)"
            ]
          },
          "metadata": {},
          "execution_count": 665
        }
      ]
    },
    {
      "cell_type": "markdown",
      "metadata": {
        "id": "JiQWA-7hff3S"
      },
      "source": [
        "데이터 합성 완료 약 2600여개의 데이터[링크 텍스트](https://)"
      ]
    },
    {
      "cell_type": "code",
      "metadata": {
        "id": "u9UZ5vqVjFW4"
      },
      "source": [
        "xtest_all=np.concatenate((xtest_1,xtest_2),axis=0) "
      ],
      "execution_count": 666,
      "outputs": []
    },
    {
      "cell_type": "code",
      "metadata": {
        "colab": {
          "base_uri": "https://localhost:8080/"
        },
        "id": "HCeC0md9jFZs",
        "outputId": "000adb0d-756b-4f49-a7bf-bc8b3af15498"
      },
      "source": [
        "xtest_all.shape"
      ],
      "execution_count": 667,
      "outputs": [
        {
          "output_type": "execute_result",
          "data": {
            "text/plain": [
              "(250, 224, 224)"
            ]
          },
          "metadata": {},
          "execution_count": 667
        }
      ]
    },
    {
      "cell_type": "code",
      "metadata": {
        "colab": {
          "base_uri": "https://localhost:8080/"
        },
        "id": "d0fp8IAhjFcg",
        "outputId": "0f6c2b31-1495-4601-9787-dfe6784a817c"
      },
      "source": [
        "np.shape(xtest_1)"
      ],
      "execution_count": 668,
      "outputs": [
        {
          "output_type": "execute_result",
          "data": {
            "text/plain": [
              "(125, 224, 224)"
            ]
          },
          "metadata": {},
          "execution_count": 668
        }
      ]
    },
    {
      "cell_type": "code",
      "metadata": {
        "colab": {
          "base_uri": "https://localhost:8080/"
        },
        "id": "yqWlDfcNjFgg",
        "outputId": "b1087795-c9aa-42ab-9018-1cc535851b3a"
      },
      "source": [
        "np.shape(xtest_2)"
      ],
      "execution_count": 669,
      "outputs": [
        {
          "output_type": "execute_result",
          "data": {
            "text/plain": [
              "(125, 224, 224)"
            ]
          },
          "metadata": {},
          "execution_count": 669
        }
      ]
    },
    {
      "cell_type": "code",
      "metadata": {
        "id": "IX9fxyVmjFj1"
      },
      "source": [
        "ytest_all=ytest_1+ytest_2"
      ],
      "execution_count": 670,
      "outputs": []
    },
    {
      "cell_type": "code",
      "metadata": {
        "colab": {
          "base_uri": "https://localhost:8080/"
        },
        "id": "wkWkJAgGjFnu",
        "outputId": "67525f25-87df-45ec-b571-94e12ad1e40d"
      },
      "source": [
        "len(ytest_all)"
      ],
      "execution_count": 671,
      "outputs": [
        {
          "output_type": "execute_result",
          "data": {
            "text/plain": [
              "250"
            ]
          },
          "metadata": {},
          "execution_count": 671
        }
      ]
    },
    {
      "cell_type": "markdown",
      "metadata": {
        "id": "b5UuSCs7fpu8"
      },
      "source": [
        "테스트 데이터 합성 완료 약 250개"
      ]
    },
    {
      "cell_type": "markdown",
      "metadata": {
        "id": "4SFcLGB4fzoQ"
      },
      "source": [
        "트레인, 밸리데이션 데이터 분할 약 0.1로 분할"
      ]
    },
    {
      "cell_type": "code",
      "metadata": {
        "id": "MsGf_6jPFIce"
      },
      "source": [
        "xtrain_all_s, xval, ytrain_all_s, yval = train_test_split(xtrain_all, ytrain_all, test_size=0.1, shuffle=True, random_state=1208)\n"
      ],
      "execution_count": 672,
      "outputs": []
    },
    {
      "cell_type": "markdown",
      "metadata": {
        "id": "lCnYz_9ci-hQ"
      },
      "source": [
        "# 데이터 합성, 분할, 전처리 완료"
      ]
    },
    {
      "cell_type": "markdown",
      "metadata": {
        "id": "hKoElP4DjRS5"
      },
      "source": [
        "# 모델링\n"
      ]
    },
    {
      "cell_type": "code",
      "metadata": {
        "id": "XVhnMrcYiLf4"
      },
      "source": [
        "xtrain=xtrain_all_s.reshape(xtrain_all_s.shape[0], target_x,target_y, 1).astype('float32')/255  # 255로 스케일링\n",
        "xtest=xtest_all.reshape(xtest_all.shape[0], target_x,target_y, 1).astype('float32')/255\n",
        "xval=xval.reshape(xval.shape[0], target_x,target_y, 1).astype('float32')/255\n",
        "ytrain=np_utils.to_categorical(ytrain_all_s) # 카테고리컬 했음. 그래서 바이너리로 하지 않고, 카테고리컬로 쭈움 감\n",
        "ytest=np_utils.to_categorical(ytest_all)\n",
        "yval=np_utils.to_categorical(yval)\n",
        "\n"
      ],
      "execution_count": 673,
      "outputs": []
    },
    {
      "cell_type": "code",
      "metadata": {
        "id": "r_sqC43NiLi2"
      },
      "source": [
        "model=Sequential()\n",
        "model.add(Conv2D(256, kernel_size=(3,3),padding=\"same\", input_shape=(target_x,target_y, 1), activation='relu'))\n",
        "# padding 밸리드= 패팅x, same 은 동일한 패딩을 계속함.\n",
        "model.add(Conv2D(128, kernel_size=(3,3), activation='relu'))\n",
        "model.add(MaxPooling2D(pool_size=2))\n",
        "model.add(Conv2D(64, kernel_size=(3,3), activation='relu'))\n",
        "model.add(MaxPooling2D(pool_size=2))\n",
        "model.add(Conv2D(32, kernel_size=(3,3), activation='relu'))\n",
        "model.add(MaxPooling2D(pool_size=2))\n",
        "model.add(Dropout(0.20)) #25%는 제외\n",
        "model.add(Flatten())\n",
        "model.add(Dense(256, activation='relu'))\n",
        "model.add(Dense(128, activation='relu'))\n",
        "model.add(Dense(64, activation='relu'))\n",
        "model.add(Dropout(0.20)) #50%는 제외\n",
        "model.add(Dense(2, activation='softmax'))"
      ],
      "execution_count": 674,
      "outputs": []
    },
    {
      "cell_type": "code",
      "metadata": {
        "id": "y_WMx5rfiLmI"
      },
      "source": [
        "#환경 설정\n",
        "model.compile(loss='categorical_crossentropy',\n",
        "             optimizer='adam',\n",
        "             metrics=['accuracy'])"
      ],
      "execution_count": 675,
      "outputs": []
    },
    {
      "cell_type": "code",
      "metadata": {
        "id": "BKEk3NyNiLo5"
      },
      "source": [
        "# 모델 저장 경로 설정\n",
        "if not os.path.exists(\"/content/drive/MyDrive/파이널 프로젝트_내꺼/final_project_covmodel/\"): # . 이 현재를 의미/ 현재 밑에\n",
        "    os.mkdir(\"/content/drive/MyDrive/파이널 프로젝트_내꺼/final_project_covmodel/\")"
      ],
      "execution_count": 676,
      "outputs": []
    },
    {
      "cell_type": "code",
      "metadata": {
        "id": "YI698lyPjAle"
      },
      "source": [
        "modelpath=\"/content/drive/MyDrive/파이널 프로젝트_내꺼/final_project_covmodel/{epoch:02d}-{val_loss:4f}.hdf5\""
      ],
      "execution_count": 677,
      "outputs": []
    },
    {
      "cell_type": "code",
      "metadata": {
        "id": "QqUKGqv7jAoU"
      },
      "source": [
        "cp=ModelCheckpoint(filepath=modelpath, monitor=\"val_loss\", save_best_only=True)  # 가장 좋은 모델만 저장해라."
      ],
      "execution_count": 678,
      "outputs": []
    },
    {
      "cell_type": "code",
      "metadata": {
        "id": "OSZvRb7qjArQ"
      },
      "source": [
        "esc=EarlyStopping(monitor=\"val_loss\", patience=10)"
      ],
      "execution_count": 679,
      "outputs": []
    },
    {
      "cell_type": "code",
      "metadata": {
        "id": "M0fhXcSwjAxF"
      },
      "source": [
        "# history=model.fit(xtrain, ytrain, validation_data=(xtest,ytest), epochs=200, batch_size=200, callbacks=[cp, esc] )\n",
        "# validation_split=0.1\n",
        "# validation_data=(xtest,ytest)"
      ],
      "execution_count": 680,
      "outputs": []
    },
    {
      "cell_type": "markdown",
      "metadata": {
        "id": "DnVlav_PgnyH"
      },
      "source": [
        "일반적인 형태로 모델을 생성하였으나, 속도가 너무 느렸기에, GPU를 사용하여 다시 작업을 함."
      ]
    },
    {
      "cell_type": "code",
      "metadata": {
        "id": "Vb40f45fjA0W"
      },
      "source": [
        ""
      ],
      "execution_count": 680,
      "outputs": []
    },
    {
      "cell_type": "code",
      "metadata": {
        "id": "ZBT1RD2TjA29",
        "colab": {
          "base_uri": "https://localhost:8080/"
        },
        "outputId": "7da7aa1e-cc74-41d2-8ac9-2d0329762d6e"
      },
      "source": [
        "model.evaluate(xtest, ytest) # 약 200여개의 데이터(train_1)로 모델을 생성하였을 때의 정확도 -> 메모리 부족 문제 때문에 train_1로만 돌려봄\n",
        "# 8/8 [==============================] - 9s 55ms/step - loss: 0.6933 - accuracy: 0.4960\n",
        "# [0.6933121681213379, 0.4959999918937683]"
      ],
      "execution_count": 681,
      "outputs": [
        {
          "output_type": "stream",
          "name": "stdout",
          "text": [
            "8/8 [==============================] - 3s 186ms/step - loss: 0.6930 - accuracy: 0.5000\n"
          ]
        },
        {
          "output_type": "execute_result",
          "data": {
            "text/plain": [
              "[0.693035364151001, 0.5]"
            ]
          },
          "metadata": {},
          "execution_count": 681
        }
      ]
    },
    {
      "cell_type": "code",
      "metadata": {
        "id": "88xmy2o-jA8g"
      },
      "source": [
        ""
      ],
      "execution_count": 681,
      "outputs": []
    },
    {
      "cell_type": "code",
      "metadata": {
        "id": "CkaQVeOhjA_A",
        "colab": {
          "base_uri": "https://localhost:8080/"
        },
        "outputId": "401e56c6-95a6-4013-dccb-0d2286d782b7"
      },
      "source": [
        "# GPU_ 사용 번호 확인\n",
        "%tensorflow_version 2.x\n",
        "import tensorflow as tf\n",
        "device_name = tf.test.gpu_device_name()\n",
        "if device_name != '/device:GPU:0':\n",
        "  raise SystemError('GPU device not found')\n",
        "print('Found GPU at: {}'.format(device_name))"
      ],
      "execution_count": 682,
      "outputs": [
        {
          "output_type": "stream",
          "name": "stdout",
          "text": [
            "Found GPU at: /device:GPU:0\n"
          ]
        }
      ]
    },
    {
      "cell_type": "markdown",
      "metadata": {
        "id": "dpQ5JUVphK6V"
      },
      "source": [
        "GPU를 통한 모델링 "
      ]
    },
    {
      "cell_type": "code",
      "metadata": {
        "id": "zX4JbFxEjBDe",
        "colab": {
          "base_uri": "https://localhost:8080/"
        },
        "outputId": "da626c4c-ab99-449f-b03b-4e442946319c"
      },
      "source": [
        "with tf.device('/device:GPU:0'):\n",
        "  model = Sequential()\n",
        "  model.add(Conv2D(256, kernel_size=(3,3),padding=\"same\", input_shape=(target_x,target_y, 1), activation='relu'))\n",
        "  # padding 밸리드= 패팅x, same 은 동일한 패딩을 계속하는 것임.\n",
        "  model.add(Conv2D(128, kernel_size=(3,3), activation='relu'))\n",
        "  model.add(MaxPooling2D(pool_size=2))\n",
        "  model.add(Conv2D(64, kernel_size=(3,3), activation='relu'))\n",
        "  # model.add(MaxPooling2D(pool_size=2))\n",
        "  # model.add(Conv2D(32, kernel_size=(3,3), activation='relu'))\n",
        "  # 위와 같은 형태의 한층을 추가했을 때는 모델의 정확도가 65% 정도 나왔으나, 삭제를 통해 정확도가 급상승\n",
        "\n",
        "  model.add(MaxPooling2D(pool_size=2))\n",
        "  model.add(Dropout(0.20)) #20%는 제외  # 과대 적합 방지용 드롭아웃\n",
        "  model.add(Flatten())\n",
        "  model.add(Dense(256, activation='relu'))\n",
        "  model.add(Dense(128, activation='relu'))\n",
        "  model.add(Dense(64, activation='relu'))\n",
        "  model.add(Dropout(0.20)) #20%는 제외 # 과대 적합 방지용 드롭아웃\n",
        "  model.add(Dense(2, activation='softmax')) \n",
        "  model.compile(loss='categorical_crossentropy',\n",
        "             optimizer='adam',\n",
        "             metrics=['accuracy']) \n",
        "  hist=model.fit(xtrain, ytrain, validation_data=(xval,yval), epochs=200, batch_size=3, callbacks=[cp, esc] )\n",
        "\n",
        "  # history = model.fit_generator(xtrain, ytrain,epochs=20,validation_data=(xtest,ytest)) # ImageDataGenerator 이걸 사용해서 제네레이터로 생성된 경우 fit_generator 사용, 아니면 그냥 fit 사용임.\n",
        "\n",
        "  # gpu 리소스 에러남. 이거 좀 설정해줘야 함. 전체 사이즈를 줄이던가 해야 함. -> 사이즈에서 문제가 생겨서 수정을 가했던 흔적 \n",
        "  # 수정은 약 1차 650-> 512 -> 256 -> 128 -> 64 까지 사이즈 조정 \n",
        "  # 1차로는 전체 파일의 숫자를 주리는 작업도 진행, 이후 3으로 되어있던, 컬러 형태를 1로 작업까지 진행해줌.\n",
        "\n",
        "  "
      ],
      "execution_count": 683,
      "outputs": [
        {
          "output_type": "stream",
          "name": "stdout",
          "text": [
            "Epoch 1/200\n",
            "735/735 [==============================] - 29s 38ms/step - loss: 0.5496 - accuracy: 0.7710 - val_loss: 0.2472 - val_accuracy: 0.9146\n",
            "Epoch 2/200\n",
            "735/735 [==============================] - 28s 38ms/step - loss: 0.1722 - accuracy: 0.9297 - val_loss: 0.0888 - val_accuracy: 0.9512\n",
            "Epoch 3/200\n",
            "735/735 [==============================] - 26s 35ms/step - loss: 0.1197 - accuracy: 0.9528 - val_loss: 0.2069 - val_accuracy: 0.9268\n",
            "Epoch 4/200\n",
            "735/735 [==============================] - 26s 35ms/step - loss: 0.0695 - accuracy: 0.9732 - val_loss: 0.1229 - val_accuracy: 0.9553\n",
            "Epoch 5/200\n",
            "735/735 [==============================] - 26s 35ms/step - loss: 0.0404 - accuracy: 0.9841 - val_loss: 0.1293 - val_accuracy: 0.9512\n",
            "Epoch 6/200\n",
            "735/735 [==============================] - 26s 35ms/step - loss: 0.0427 - accuracy: 0.9828 - val_loss: 0.1834 - val_accuracy: 0.9512\n",
            "Epoch 7/200\n",
            "735/735 [==============================] - 26s 35ms/step - loss: 0.0090 - accuracy: 0.9964 - val_loss: 0.2225 - val_accuracy: 0.9512\n",
            "Epoch 8/200\n",
            "735/735 [==============================] - 26s 35ms/step - loss: 0.0720 - accuracy: 0.9828 - val_loss: 0.2850 - val_accuracy: 0.9350\n",
            "Epoch 9/200\n",
            "735/735 [==============================] - 26s 35ms/step - loss: 0.0575 - accuracy: 0.9896 - val_loss: 0.1433 - val_accuracy: 0.9512\n",
            "Epoch 10/200\n",
            "735/735 [==============================] - 26s 35ms/step - loss: 0.0398 - accuracy: 0.9909 - val_loss: 0.6026 - val_accuracy: 0.9512\n",
            "Epoch 11/200\n",
            "735/735 [==============================] - 26s 35ms/step - loss: 0.0770 - accuracy: 0.9832 - val_loss: 0.1809 - val_accuracy: 0.9512\n",
            "Epoch 12/200\n",
            "735/735 [==============================] - 26s 35ms/step - loss: 0.0508 - accuracy: 0.9887 - val_loss: 0.4108 - val_accuracy: 0.9350\n"
          ]
        }
      ]
    },
    {
      "cell_type": "code",
      "metadata": {
        "colab": {
          "base_uri": "https://localhost:8080/"
        },
        "id": "MP2nQOUwwGSX",
        "outputId": "67d20684-d323-438d-fc2a-c13669a98f0d"
      },
      "source": [
        "hist.history[\"accuracy\"]"
      ],
      "execution_count": 684,
      "outputs": [
        {
          "output_type": "execute_result",
          "data": {
            "text/plain": [
              "[0.7709750533103943,\n",
              " 0.9297052025794983,\n",
              " 0.9528344869613647,\n",
              " 0.9732426404953003,\n",
              " 0.9841269850730896,\n",
              " 0.9827664494514465,\n",
              " 0.996371865272522,\n",
              " 0.9827664494514465,\n",
              " 0.9895691871643066,\n",
              " 0.9909297227859497,\n",
              " 0.9832199811935425,\n",
              " 0.9886621236801147]"
            ]
          },
          "metadata": {},
          "execution_count": 684
        }
      ]
    },
    {
      "cell_type": "code",
      "metadata": {
        "colab": {
          "base_uri": "https://localhost:8080/"
        },
        "id": "oGKdWfQfwGSY",
        "outputId": "416e9423-e8ec-4e36-c229-d2e7224fa4f6"
      },
      "source": [
        "# 가장 높은 정확도\n",
        "best_score = max(history.history['accuracy'])\n",
        "\n",
        "print(best_score)"
      ],
      "execution_count": 685,
      "outputs": [
        {
          "output_type": "stream",
          "name": "stdout",
          "text": [
            "0.993043065071106\n"
          ]
        }
      ]
    },
    {
      "cell_type": "code",
      "metadata": {
        "colab": {
          "base_uri": "https://localhost:8080/"
        },
        "id": "1CpdidfdwGSY",
        "outputId": "35d51ecd-2b72-4435-dedb-0f7557250d1f"
      },
      "source": [
        "model.evaluate(xtest,ytest)  # loss와 정확도"
      ],
      "execution_count": 686,
      "outputs": [
        {
          "output_type": "stream",
          "name": "stdout",
          "text": [
            "8/8 [==============================] - 1s 81ms/step - loss: 3.4396 - accuracy: 0.8520\n"
          ]
        },
        {
          "output_type": "execute_result",
          "data": {
            "text/plain": [
              "[3.4396378993988037, 0.8519999980926514]"
            ]
          },
          "metadata": {},
          "execution_count": 686
        }
      ]
    },
    {
      "cell_type": "code",
      "metadata": {
        "colab": {
          "base_uri": "https://localhost:8080/"
        },
        "id": "X-iIIl9ewGSY",
        "outputId": "bfb7f2ba-be1c-4331-9bd9-0b4e585b724d"
      },
      "source": [
        "model.summary() "
      ],
      "execution_count": 687,
      "outputs": [
        {
          "output_type": "stream",
          "name": "stdout",
          "text": [
            "Model: \"sequential_33\"\n",
            "_________________________________________________________________\n",
            " Layer (type)                Output Shape              Param #   \n",
            "=================================================================\n",
            " conv2d_195 (Conv2D)         (None, 224, 224, 256)     2560      \n",
            "                                                                 \n",
            " conv2d_196 (Conv2D)         (None, 222, 222, 128)     295040    \n",
            "                                                                 \n",
            " max_pooling2d_72 (MaxPoolin  (None, 111, 111, 128)    0         \n",
            " g2D)                                                            \n",
            "                                                                 \n",
            " conv2d_197 (Conv2D)         (None, 109, 109, 64)      73792     \n",
            "                                                                 \n",
            " max_pooling2d_73 (MaxPoolin  (None, 54, 54, 64)       0         \n",
            " g2D)                                                            \n",
            "                                                                 \n",
            " dropout_80 (Dropout)        (None, 54, 54, 64)        0         \n",
            "                                                                 \n",
            " flatten_33 (Flatten)        (None, 186624)            0         \n",
            "                                                                 \n",
            " dense_131 (Dense)           (None, 256)               47776000  \n",
            "                                                                 \n",
            " dense_132 (Dense)           (None, 128)               32896     \n",
            "                                                                 \n",
            " dense_133 (Dense)           (None, 64)                8256      \n",
            "                                                                 \n",
            " dropout_81 (Dropout)        (None, 64)                0         \n",
            "                                                                 \n",
            " dense_134 (Dense)           (None, 2)                 130       \n",
            "                                                                 \n",
            "=================================================================\n",
            "Total params: 48,188,674\n",
            "Trainable params: 48,188,674\n",
            "Non-trainable params: 0\n",
            "_________________________________________________________________\n"
          ]
        }
      ]
    },
    {
      "cell_type": "code",
      "metadata": {
        "id": "Zb99iaBywAfj"
      },
      "source": [
        ""
      ],
      "execution_count": 687,
      "outputs": []
    },
    {
      "cell_type": "code",
      "metadata": {
        "colab": {
          "base_uri": "https://localhost:8080/",
          "height": 297
        },
        "id": "K2UyU4iUwrjX",
        "outputId": "133bf730-6562-400a-d11d-933063482099"
      },
      "source": [
        "fig, loss_ax = plt.subplots()\n",
        "acc_ax = loss_ax.twinx() # twinx() 축을 공유할때 사용하는 것임.\n",
        "loss_ax.plot(hist.history['loss'], 'y', label='train loss')\n",
        "loss_ax.plot(hist.history['val_loss'], 'r', label='val loss')\n",
        "acc_ax.plot(hist.history['accuracy'], 'b', label='train acc')\n",
        "acc_ax.plot(hist.history['val_accuracy'], 'g', label='val acc')\n",
        "\n",
        "loss_ax.set_xlabel('epoch')\n",
        "loss_ax.set_ylabel('loss')\n",
        "acc_ax.set_ylabel('accuray')\n",
        "\n",
        "loss_ax.legend(loc='upper left')\n",
        "acc_ax.legend(loc='lower left')\n",
        "\n",
        "# 몇 에폭에서 멈추는 것이 좋을까? 하면서 잡는것도 좋음. \n",
        "# val_loss가 올라가면 모델이 과적합에 빠진다. -> 과적합에 빠진것으로 보임.\n",
        "\n"
      ],
      "execution_count": 688,
      "outputs": [
        {
          "output_type": "execute_result",
          "data": {
            "text/plain": [
              "<matplotlib.legend.Legend at 0x7f9a7ab21e10>"
            ]
          },
          "metadata": {},
          "execution_count": 688
        },
        {
          "output_type": "display_data",
          "data": {
            "image/png": "[encoded data removed]",
            "text/plain": [
              "<Figure size 432x288 with 2 Axes>"
            ]
          },
          "metadata": {
            "needs_background": "light"
          }
        }
      ]
    },
    {
      "cell_type": "code",
      "metadata": {
        "colab": {
          "base_uri": "https://localhost:8080/",
          "height": 335
        },
        "id": "C8EO9kEOwrjY",
        "outputId": "774bace8-7cb3-4d55-b71f-0967fc5aae2f"
      },
      "source": [
        "# Plot the training graph\n",
        "\n",
        "def plot_training(history):\n",
        "    acc = hist.history['accuracy']\n",
        "    val_acc = hist.history['val_accuracy']\n",
        "    loss = hist.history['loss']\n",
        "    val_loss = hist.history['val_loss']\n",
        "    epochs = range(len(acc))\n",
        "\n",
        "    fig, axes = plt.subplots(1, 2, figsize=(15,5))\n",
        "    \n",
        "    axes[0].plot(epochs, acc, 'r-', label='Training Accuracy')\n",
        "    axes[0].plot(epochs, val_acc, 'b--', label='Validation Accuracy')\n",
        "    axes[0].set_title('Training and Validation Accuracy')\n",
        "    axes[0].legend(loc='best')\n",
        "\n",
        "    axes[1].plot(epochs, loss, 'r-', label='Training Loss')\n",
        "    axes[1].plot(epochs, val_loss, 'b--', label='Validation Loss')\n",
        "    axes[1].set_title('Training and Validation Loss')\n",
        "    axes[1].legend(loc='best')\n",
        "    \n",
        "    plt.show()\n",
        "    \n",
        "plot_training(history)"
      ],
      "execution_count": 689,
      "outputs": [
        {
          "output_type": "display_data",
          "data": {
            "image/png": "[encoded data removed]",
            "text/plain": [
              "<Figure size 1080x360 with 2 Axes>"
            ]
          },
          "metadata": {
            "needs_background": "light"
          }
        }
      ]
    },
    {
      "cell_type": "markdown",
      "metadata": {
        "id": "XMWo89uawT6n"
      },
      "source": [
        "# 과대적합이 발견되어 과대적합을 줄이는 과정 진행"
      ]
    },
    {
      "cell_type": "code",
      "metadata": {
        "colab": {
          "base_uri": "https://localhost:8080/"
        },
        "id": "YeZ6kSF9kmkx",
        "outputId": "7433b2f1-72c5-4231-e287-edc98a1fc5b5"
      },
      "source": [
        "with tf.device('/device:GPU:0'):\n",
        "  model = Sequential()\n",
        "  model.add(Conv2D(256, kernel_size=(3,3),padding=\"same\", input_shape=(target_x,target_y, 1), activation='relu'))\n",
        "  model.add(Dropout(0.20))\n",
        "  # padding 밸리드= 패팅x, same 은 동일한 패딩을 계속하는 것임.\n",
        "  model.add(Conv2D(128, kernel_size=(3,3), activation='relu'))\n",
        "  model.add(MaxPooling2D(pool_size=2))\n",
        "  model.add(Dropout(0.20))\n",
        "  model.add(Conv2D(64, kernel_size=(3,3), activation='relu'))\n",
        "  # model.add(MaxPooling2D(pool_size=2))\n",
        "  # model.add(Conv2D(32, kernel_size=(3,3), activation='relu'))\n",
        "  # 위와 같은 형태의 한층을 추가했을 때는 모델의 정확도가 65% 정도 나왔으나, 삭제를 통해 정확도가 급상승\n",
        "\n",
        "  model.add(MaxPooling2D(pool_size=2))\n",
        "  model.add(Dropout(0.20)) #20%는 제외  # 과대 적합 방지용 드롭아웃\n",
        "  model.add(Flatten())\n",
        "  model.add(Dense(256, activation='relu'))\n",
        "  model.add(Dense(128, activation='relu'))\n",
        "  model.add(Dense(64, activation='relu'))\n",
        "  model.add(Dropout(0.50)) #20%는 제외 # 과대 적합 방지용 드롭아웃\n",
        "  model.add(Dense(2, activation='softmax')) \n",
        "  model.compile(loss='categorical_crossentropy',\n",
        "             optimizer='adam',\n",
        "             metrics=['accuracy']) \n",
        "  hist=model.fit(xtrain, ytrain, validation_data=(xval,yval), epochs=200, batch_size=3, callbacks=[cp, esc] )\n",
        "\n",
        "  # history = model.fit_generator(xtrain, ytrain,epochs=20,validation_data=(xtest,ytest)) # ImageDataGenerator 이걸 사용해서 제네레이터로 생성된 경우 fit_generator 사용, 아니면 그냥 fit 사용임.\n",
        "\n",
        "  # gpu 리소스 에러남. 이거 좀 설정해줘야 함. 전체 사이즈를 줄이던가 해야 함. -> 사이즈에서 문제가 생겨서 수정을 가했던 흔적 \n",
        "  # 수정은 약 1차 650-> 512 -> 256 -> 128 -> 64 까지 사이즈 조정 \n",
        "  # 1차로는 전체 파일의 숫자를 주리는 작업도 진행, 이후 3으로 되어있던, 컬러 형태를 1로 작업까지 진행해줌.\n",
        "\n",
        "  "
      ],
      "execution_count": 690,
      "outputs": [
        {
          "output_type": "stream",
          "name": "stdout",
          "text": [
            "Epoch 1/200\n",
            "735/735 [==============================] - 31s 41ms/step - loss: 0.5572 - accuracy: 0.7229 - val_loss: 0.3284 - val_accuracy: 0.8577\n",
            "Epoch 2/200\n",
            "735/735 [==============================] - 30s 41ms/step - loss: 0.2624 - accuracy: 0.8930 - val_loss: 0.1805 - val_accuracy: 0.9187\n",
            "Epoch 3/200\n",
            "735/735 [==============================] - 30s 41ms/step - loss: 0.1297 - accuracy: 0.9524 - val_loss: 0.1477 - val_accuracy: 0.9390\n",
            "Epoch 4/200\n",
            "735/735 [==============================] - 30s 41ms/step - loss: 0.1093 - accuracy: 0.9673 - val_loss: 0.1665 - val_accuracy: 0.9350\n",
            "Epoch 5/200\n",
            "735/735 [==============================] - 30s 41ms/step - loss: 0.0948 - accuracy: 0.9710 - val_loss: 0.1141 - val_accuracy: 0.9553\n",
            "Epoch 6/200\n",
            "735/735 [==============================] - 30s 41ms/step - loss: 0.0430 - accuracy: 0.9828 - val_loss: 0.1488 - val_accuracy: 0.9309\n",
            "Epoch 7/200\n",
            "735/735 [==============================] - 30s 41ms/step - loss: 0.0507 - accuracy: 0.9868 - val_loss: 0.2370 - val_accuracy: 0.9350\n",
            "Epoch 8/200\n",
            "735/735 [==============================] - 30s 41ms/step - loss: 0.0517 - accuracy: 0.9850 - val_loss: 0.4400 - val_accuracy: 0.8943\n",
            "Epoch 9/200\n",
            "735/735 [==============================] - 30s 41ms/step - loss: 0.0383 - accuracy: 0.9900 - val_loss: 0.2363 - val_accuracy: 0.9268\n",
            "Epoch 10/200\n",
            "735/735 [==============================] - 30s 41ms/step - loss: 0.0326 - accuracy: 0.9914 - val_loss: 0.2379 - val_accuracy: 0.9593\n",
            "Epoch 11/200\n",
            "735/735 [==============================] - 30s 41ms/step - loss: 0.0789 - accuracy: 0.9855 - val_loss: 0.5133 - val_accuracy: 0.9309\n",
            "Epoch 12/200\n",
            "735/735 [==============================] - 30s 41ms/step - loss: 0.0624 - accuracy: 0.9900 - val_loss: 0.2077 - val_accuracy: 0.9390\n",
            "Epoch 13/200\n",
            "735/735 [==============================] - 30s 41ms/step - loss: 0.0581 - accuracy: 0.9900 - val_loss: 0.2043 - val_accuracy: 0.9472\n",
            "Epoch 14/200\n",
            "735/735 [==============================] - 30s 41ms/step - loss: 0.0247 - accuracy: 0.9950 - val_loss: 0.2705 - val_accuracy: 0.9472\n",
            "Epoch 15/200\n",
            "735/735 [==============================] - 30s 41ms/step - loss: 0.0200 - accuracy: 0.9932 - val_loss: 0.5818 - val_accuracy: 0.9431\n"
          ]
        }
      ]
    },
    {
      "cell_type": "code",
      "metadata": {
        "colab": {
          "base_uri": "https://localhost:8080/"
        },
        "id": "DTUyKhYSbaz5",
        "outputId": "7bfdbc9c-319a-4e78-9ecf-099ed70f4402"
      },
      "source": [
        "# 가장 높은 정확도\n",
        "best_score = max(history.history['accuracy'])\n",
        "\n",
        "print(best_score)"
      ],
      "execution_count": 691,
      "outputs": [
        {
          "output_type": "stream",
          "name": "stdout",
          "text": [
            "0.993043065071106\n"
          ]
        }
      ]
    },
    {
      "cell_type": "code",
      "metadata": {
        "colab": {
          "base_uri": "https://localhost:8080/"
        },
        "id": "fb5aXC1Bbaz5",
        "outputId": "6bc105e4-2366-4f1b-c80e-469fb67181e9"
      },
      "source": [
        "model.evaluate(xtest,ytest)  # loss와 정확도"
      ],
      "execution_count": 692,
      "outputs": [
        {
          "output_type": "stream",
          "name": "stdout",
          "text": [
            "8/8 [==============================] - 1s 81ms/step - loss: 1.6579 - accuracy: 0.9040\n"
          ]
        },
        {
          "output_type": "execute_result",
          "data": {
            "text/plain": [
              "[1.6579458713531494, 0.9039999842643738]"
            ]
          },
          "metadata": {},
          "execution_count": 692
        }
      ]
    },
    {
      "cell_type": "code",
      "metadata": {
        "colab": {
          "base_uri": "https://localhost:8080/"
        },
        "id": "lgDHPfrpbaz5",
        "outputId": "a4847c94-d0a8-40a4-e5e7-0479e9070f64"
      },
      "source": [
        "model.summary() "
      ],
      "execution_count": 693,
      "outputs": [
        {
          "output_type": "stream",
          "name": "stdout",
          "text": [
            "Model: \"sequential_34\"\n",
            "_________________________________________________________________\n",
            " Layer (type)                Output Shape              Param #   \n",
            "=================================================================\n",
            " conv2d_198 (Conv2D)         (None, 224, 224, 256)     2560      \n",
            "                                                                 \n",
            " dropout_82 (Dropout)        (None, 224, 224, 256)     0         \n",
            "                                                                 \n",
            " conv2d_199 (Conv2D)         (None, 222, 222, 128)     295040    \n",
            "                                                                 \n",
            " max_pooling2d_74 (MaxPoolin  (None, 111, 111, 128)    0         \n",
            " g2D)                                                            \n",
            "                                                                 \n",
            " dropout_83 (Dropout)        (None, 111, 111, 128)     0         \n",
            "                                                                 \n",
            " conv2d_200 (Conv2D)         (None, 109, 109, 64)      73792     \n",
            "                                                                 \n",
            " max_pooling2d_75 (MaxPoolin  (None, 54, 54, 64)       0         \n",
            " g2D)                                                            \n",
            "                                                                 \n",
            " dropout_84 (Dropout)        (None, 54, 54, 64)        0         \n",
            "                                                                 \n",
            " flatten_34 (Flatten)        (None, 186624)            0         \n",
            "                                                                 \n",
            " dense_135 (Dense)           (None, 256)               47776000  \n",
            "                                                                 \n",
            " dense_136 (Dense)           (None, 128)               32896     \n",
            "                                                                 \n",
            " dense_137 (Dense)           (None, 64)                8256      \n",
            "                                                                 \n",
            " dropout_85 (Dropout)        (None, 64)                0         \n",
            "                                                                 \n",
            " dense_138 (Dense)           (None, 2)                 130       \n",
            "                                                                 \n",
            "=================================================================\n",
            "Total params: 48,188,674\n",
            "Trainable params: 48,188,674\n",
            "Non-trainable params: 0\n",
            "_________________________________________________________________\n"
          ]
        }
      ]
    },
    {
      "cell_type": "code",
      "metadata": {
        "colab": {
          "base_uri": "https://localhost:8080/"
        },
        "id": "tFaxmWXHvijz",
        "outputId": "fd02a8d2-54ed-479a-a7a4-cf5cca15b9f2"
      },
      "source": [
        "with tf.device('/device:GPU:0'):\n",
        "  model = Sequential()\n",
        "  model.add(Conv2D(256, kernel_size=(3,3),padding=\"same\", input_shape=(target_x,target_y, 1), activation='relu'))\n",
        "  model.add(Dropout(0.20))\n",
        "  # padding 밸리드= 패팅x, same 은 동일한 패딩을 계속하는 것임.\n",
        "  # model.add(Conv2D(128, kernel_size=(3,3), activation='relu'))\n",
        "  # model.add(MaxPooling2D(pool_size=2))\n",
        "  model.add(Dropout(0.20))\n",
        "  model.add(Conv2D(64, kernel_size=(3,3), activation='relu'))\n",
        "  # model.add(MaxPooling2D(pool_size=2))\n",
        "  # model.add(Conv2D(32, kernel_size=(3,3), activation='relu'))\n",
        "  # 위와 같은 형태의 한층을 추가했을 때는 모델의 정확도가 65% 정도 나왔으나, 삭제를 통해 정확도가 급상승\n",
        "\n",
        "  model.add(MaxPooling2D(pool_size=2))\n",
        "  model.add(Dropout(0.20)) #20%는 제외  # 과대 적합 방지용 드롭아웃\n",
        "  model.add(Flatten())\n",
        "  model.add(Dense(256, activation='relu'))\n",
        "  model.add(Dense(128, activation='relu'))\n",
        "  # model.add(Dense(64, activation='relu'))\n",
        "  model.add(Dropout(0.50)) #20%는 제외 # 과대 적합 방지용 드롭아웃\n",
        "  model.add(Dense(2, activation='softmax')) \n",
        "  model.compile(loss='categorical_crossentropy',\n",
        "             optimizer='adam',\n",
        "             metrics=['accuracy']) \n",
        "  hist=model.fit(xtrain, ytrain, validation_data=(xval,yval), epochs=200, batch_size=3, callbacks=[cp, esc] )\n",
        "\n",
        "  # history = model.fit_generator(xtrain, ytrain,epochs=20,validation_data=(xtest,ytest)) # ImageDataGenerator 이걸 사용해서 제네레이터로 생성된 경우 fit_generator 사용, 아니면 그냥 fit 사용임.\n",
        "\n",
        "  # gpu 리소스 에러남. 이거 좀 설정해줘야 함. 전체 사이즈를 줄이던가 해야 함. -> 사이즈에서 문제가 생겨서 수정을 가했던 흔적 \n",
        "  # 수정은 약 1차 650-> 512 -> 256 -> 128 -> 64 까지 사이즈 조정 \n",
        "  # 1차로는 전체 파일의 숫자를 주리는 작업도 진행, 이후 3으로 되어있던, 컬러 형태를 1로 작업까지 진행해줌.\n"
      ],
      "execution_count": 694,
      "outputs": [
        {
          "output_type": "stream",
          "name": "stdout",
          "text": [
            "Epoch 1/200\n",
            "735/735 [==============================] - 47s 63ms/step - loss: 0.4397 - accuracy: 0.7991 - val_loss: 0.2284 - val_accuracy: 0.9187\n",
            "Epoch 2/200\n",
            "735/735 [==============================] - 46s 63ms/step - loss: 0.1525 - accuracy: 0.9361 - val_loss: 0.2170 - val_accuracy: 0.9024\n",
            "Epoch 3/200\n",
            "735/735 [==============================] - 46s 63ms/step - loss: 0.0947 - accuracy: 0.9628 - val_loss: 0.2194 - val_accuracy: 0.9065\n",
            "Epoch 4/200\n",
            "735/735 [==============================] - 46s 63ms/step - loss: 0.0827 - accuracy: 0.9619 - val_loss: 0.1533 - val_accuracy: 0.9512\n",
            "Epoch 5/200\n",
            "735/735 [==============================] - 46s 63ms/step - loss: 0.1039 - accuracy: 0.9796 - val_loss: 0.2460 - val_accuracy: 0.9431\n",
            "Epoch 6/200\n",
            "735/735 [==============================] - 46s 63ms/step - loss: 0.0427 - accuracy: 0.9782 - val_loss: 0.2077 - val_accuracy: 0.9268\n",
            "Epoch 7/200\n",
            "735/735 [==============================] - 46s 63ms/step - loss: 0.0699 - accuracy: 0.9787 - val_loss: 0.2330 - val_accuracy: 0.9268\n",
            "Epoch 8/200\n",
            "735/735 [==============================] - 46s 63ms/step - loss: 0.0479 - accuracy: 0.9810 - val_loss: 0.3792 - val_accuracy: 0.9390\n",
            "Epoch 9/200\n",
            "735/735 [==============================] - 46s 63ms/step - loss: 0.0480 - accuracy: 0.9841 - val_loss: 0.2380 - val_accuracy: 0.9512\n",
            "Epoch 10/200\n",
            "735/735 [==============================] - 46s 63ms/step - loss: 0.0470 - accuracy: 0.9864 - val_loss: 0.1603 - val_accuracy: 0.9472\n",
            "Epoch 11/200\n",
            "735/735 [==============================] - 46s 63ms/step - loss: 0.0247 - accuracy: 0.9914 - val_loss: 0.3021 - val_accuracy: 0.9390\n",
            "Epoch 12/200\n",
            "735/735 [==============================] - 46s 63ms/step - loss: 0.0320 - accuracy: 0.9918 - val_loss: 0.4330 - val_accuracy: 0.9350\n",
            "Epoch 13/200\n",
            "735/735 [==============================] - 46s 63ms/step - loss: 0.0497 - accuracy: 0.9905 - val_loss: 0.2082 - val_accuracy: 0.9309\n",
            "Epoch 14/200\n",
            "735/735 [==============================] - 46s 63ms/step - loss: 0.0308 - accuracy: 0.9923 - val_loss: 0.5062 - val_accuracy: 0.9350\n"
          ]
        }
      ]
    },
    {
      "cell_type": "code",
      "metadata": {
        "id": "u_UXvxrZviqI"
      },
      "source": [
        ""
      ],
      "execution_count": 694,
      "outputs": []
    },
    {
      "cell_type": "markdown",
      "metadata": {
        "id": "qCJjzXVIwZoB"
      },
      "source": [
        "과대적합이 조정되지 않음"
      ]
    },
    {
      "cell_type": "code",
      "metadata": {
        "colab": {
          "base_uri": "https://localhost:8080/"
        },
        "id": "u1kczHy07UP2",
        "outputId": "8b1eb4a9-0e8e-42c1-c8d1-d36cc57e2434"
      },
      "source": [
        "hist.history[\"accuracy\"]"
      ],
      "execution_count": 695,
      "outputs": [
        {
          "output_type": "execute_result",
          "data": {
            "text/plain": [
              "[0.7990929484367371,\n",
              " 0.9360544085502625,\n",
              " 0.9628117680549622,\n",
              " 0.961904764175415,\n",
              " 0.9795918464660645,\n",
              " 0.9782313108444214,\n",
              " 0.9786847829818726,\n",
              " 0.9809523820877075,\n",
              " 0.9841269850730896,\n",
              " 0.9863945841789246,\n",
              " 0.9913831949234009,\n",
              " 0.9918367266654968,\n",
              " 0.9904761910438538,\n",
              " 0.9922902584075928]"
            ]
          },
          "metadata": {},
          "execution_count": 695
        }
      ]
    },
    {
      "cell_type": "code",
      "metadata": {
        "colab": {
          "base_uri": "https://localhost:8080/"
        },
        "id": "e283mh-Y7aPb",
        "outputId": "d67132fc-b229-4583-a4c7-1ed32f7796ac"
      },
      "source": [
        "# 가장 높은 정확도\n",
        "best_score = max(history.history['accuracy'])\n",
        "\n",
        "print(best_score)"
      ],
      "execution_count": 696,
      "outputs": [
        {
          "output_type": "stream",
          "name": "stdout",
          "text": [
            "0.993043065071106\n"
          ]
        }
      ]
    },
    {
      "cell_type": "code",
      "metadata": {
        "id": "M9hQCEsdjBMh",
        "colab": {
          "base_uri": "https://localhost:8080/"
        },
        "outputId": "0aaaed6e-62fc-4324-9d93-c4da46accdb8"
      },
      "source": [
        "model.evaluate(xtest,ytest)  # loss와 정확도"
      ],
      "execution_count": 697,
      "outputs": [
        {
          "output_type": "stream",
          "name": "stdout",
          "text": [
            "8/8 [==============================] - 1s 95ms/step - loss: 1.6729 - accuracy: 0.8800\n"
          ]
        },
        {
          "output_type": "execute_result",
          "data": {
            "text/plain": [
              "[1.672926425933838, 0.8799999952316284]"
            ]
          },
          "metadata": {},
          "execution_count": 697
        }
      ]
    },
    {
      "cell_type": "code",
      "metadata": {
        "id": "zwZg-TBejBZO",
        "colab": {
          "base_uri": "https://localhost:8080/"
        },
        "outputId": "c3688168-f847-4beb-8c2d-89bc8160e2d8"
      },
      "source": [
        "model.summary() "
      ],
      "execution_count": 698,
      "outputs": [
        {
          "output_type": "stream",
          "name": "stdout",
          "text": [
            "Model: \"sequential_35\"\n",
            "_________________________________________________________________\n",
            " Layer (type)                Output Shape              Param #   \n",
            "=================================================================\n",
            " conv2d_201 (Conv2D)         (None, 224, 224, 256)     2560      \n",
            "                                                                 \n",
            " dropout_86 (Dropout)        (None, 224, 224, 256)     0         \n",
            "                                                                 \n",
            " dropout_87 (Dropout)        (None, 224, 224, 256)     0         \n",
            "                                                                 \n",
            " conv2d_202 (Conv2D)         (None, 222, 222, 64)      147520    \n",
            "                                                                 \n",
            " max_pooling2d_76 (MaxPoolin  (None, 111, 111, 64)     0         \n",
            " g2D)                                                            \n",
            "                                                                 \n",
            " dropout_88 (Dropout)        (None, 111, 111, 64)      0         \n",
            "                                                                 \n",
            " flatten_35 (Flatten)        (None, 788544)            0         \n",
            "                                                                 \n",
            " dense_139 (Dense)           (None, 256)               201867520 \n",
            "                                                                 \n",
            " dense_140 (Dense)           (None, 128)               32896     \n",
            "                                                                 \n",
            " dropout_89 (Dropout)        (None, 128)               0         \n",
            "                                                                 \n",
            " dense_141 (Dense)           (None, 2)                 258       \n",
            "                                                                 \n",
            "=================================================================\n",
            "Total params: 202,050,754\n",
            "Trainable params: 202,050,754\n",
            "Non-trainable params: 0\n",
            "_________________________________________________________________\n"
          ]
        }
      ]
    },
    {
      "cell_type": "code",
      "metadata": {
        "id": "Bp1CGWoZjBca"
      },
      "source": [
        "\n"
      ],
      "execution_count": 698,
      "outputs": []
    },
    {
      "cell_type": "code",
      "metadata": {
        "colab": {
          "base_uri": "https://localhost:8080/",
          "height": 300
        },
        "id": "jVZ1PYnqHQTQ",
        "outputId": "97c7dabb-d3df-4844-bc62-0690f7475f03"
      },
      "source": [
        "fig, loss_ax = plt.subplots()\n",
        "acc_ax = loss_ax.twinx() # twinx() 축을 공유할때 사용하는 것임.\n",
        "loss_ax.plot(hist.history['loss'], 'y', label='train loss')\n",
        "loss_ax.plot(hist.history['val_loss'], 'r', label='val loss')\n",
        "acc_ax.plot(hist.history['accuracy'], 'b', label='train acc')\n",
        "acc_ax.plot(hist.history['val_accuracy'], 'g', label='val acc')\n",
        "\n",
        "loss_ax.set_xlabel('epoch')\n",
        "loss_ax.set_ylabel('loss')\n",
        "acc_ax.set_ylabel('accuray')\n",
        "\n",
        "loss_ax.legend(loc='upper left')\n",
        "acc_ax.legend(loc='lower left')\n",
        "\n",
        "# 몇 에폭에서 멈추는 것이 좋을까? 하면서 잡는것도 좋음. \n",
        "# val_loss가 올라가면 모델이 과적합에 빠진다. -> 과적합에 빠진것으로 보임.\n",
        "\n"
      ],
      "execution_count": 699,
      "outputs": [
        {
          "output_type": "execute_result",
          "data": {
            "text/plain": [
              "<matplotlib.legend.Legend at 0x7f9a83fe4d90>"
            ]
          },
          "metadata": {},
          "execution_count": 699
        },
        {
          "output_type": "display_data",
          "data": {
            "image/png": "[encoded data removed]",
            "text/plain": [
              "<Figure size 432x288 with 2 Axes>"
            ]
          },
          "metadata": {
            "needs_background": "light"
          }
        }
      ]
    },
    {
      "cell_type": "code",
      "metadata": {
        "colab": {
          "base_uri": "https://localhost:8080/",
          "height": 335
        },
        "id": "aoO2ZgiQHQad",
        "outputId": "c0ef9861-9431-4ed9-cfd3-3bea4eb56b56"
      },
      "source": [
        "# Plot the training graph\n",
        "\n",
        "def plot_training(history):\n",
        "    acc = hist.history['accuracy']\n",
        "    val_acc = hist.history['val_accuracy']\n",
        "    loss = hist.history['loss']\n",
        "    val_loss = hist.history['val_loss']\n",
        "    epochs = range(len(acc))\n",
        "\n",
        "    fig, axes = plt.subplots(1, 2, figsize=(15,5))\n",
        "    \n",
        "    axes[0].plot(epochs, acc, 'r-', label='Training Accuracy')\n",
        "    axes[0].plot(epochs, val_acc, 'b--', label='Validation Accuracy')\n",
        "    axes[0].set_title('Training and Validation Accuracy')\n",
        "    axes[0].legend(loc='best')\n",
        "\n",
        "    axes[1].plot(epochs, loss, 'r-', label='Training Loss')\n",
        "    axes[1].plot(epochs, val_loss, 'b--', label='Validation Loss')\n",
        "    axes[1].set_title('Training and Validation Loss')\n",
        "    axes[1].legend(loc='best')\n",
        "    \n",
        "    plt.show()\n",
        "    \n",
        "plot_training(history)"
      ],
      "execution_count": 700,
      "outputs": [
        {
          "output_type": "display_data",
          "data": {
            "image/png": "[encoded data removed]",
            "text/plain": [
              "<Figure size 1080x360 with 2 Axes>"
            ]
          },
          "metadata": {
            "needs_background": "light"
          }
        }
      ]
    },
    {
      "cell_type": "code",
      "metadata": {
        "id": "xZvnPgzBHQdQ"
      },
      "source": [
        ""
      ],
      "execution_count": 700,
      "outputs": []
    },
    {
      "cell_type": "code",
      "metadata": {
        "id": "pq9DMGERw5_y"
      },
      "source": [
        ""
      ],
      "execution_count": 700,
      "outputs": []
    },
    {
      "cell_type": "markdown",
      "metadata": {
        "id": "BlDiodp4ig2X"
      },
      "source": [
        "# 전이학습"
      ]
    },
    {
      "cell_type": "code",
      "metadata": {
        "id": "uuO_Od3bw6SZ"
      },
      "source": [
        "from keras.applications import vgg16"
      ],
      "execution_count": 701,
      "outputs": []
    },
    {
      "cell_type": "code",
      "metadata": {
        "id": "MjcOjOi1w6Vk"
      },
      "source": [
        "model_vgg16 = vgg16.VGG16()"
      ],
      "execution_count": 702,
      "outputs": []
    },
    {
      "cell_type": "code",
      "metadata": {
        "colab": {
          "base_uri": "https://localhost:8080/"
        },
        "id": "5easc4q7w6ZE",
        "outputId": "bd868b6b-740e-4d44-b162-4752d5502b40"
      },
      "source": [
        "model_vgg16.summary()\n"
      ],
      "execution_count": 703,
      "outputs": [
        {
          "output_type": "stream",
          "name": "stdout",
          "text": [
            "Model: \"vgg16\"\n",
            "_________________________________________________________________\n",
            " Layer (type)                Output Shape              Param #   \n",
            "=================================================================\n",
            " input_6 (InputLayer)        [(None, 224, 224, 3)]     0         \n",
            "                                                                 \n",
            " block1_conv1 (Conv2D)       (None, 224, 224, 64)      1792      \n",
            "                                                                 \n",
            " block1_conv2 (Conv2D)       (None, 224, 224, 64)      36928     \n",
            "                                                                 \n",
            " block1_pool (MaxPooling2D)  (None, 112, 112, 64)      0         \n",
            "                                                                 \n",
            " block2_conv1 (Conv2D)       (None, 112, 112, 128)     73856     \n",
            "                                                                 \n",
            " block2_conv2 (Conv2D)       (None, 112, 112, 128)     147584    \n",
            "                                                                 \n",
            " block2_pool (MaxPooling2D)  (None, 56, 56, 128)       0         \n",
            "                                                                 \n",
            " block3_conv1 (Conv2D)       (None, 56, 56, 256)       295168    \n",
            "                                                                 \n",
            " block3_conv2 (Conv2D)       (None, 56, 56, 256)       590080    \n",
            "                                                                 \n",
            " block3_conv3 (Conv2D)       (None, 56, 56, 256)       590080    \n",
            "                                                                 \n",
            " block3_pool (MaxPooling2D)  (None, 28, 28, 256)       0         \n",
            "                                                                 \n",
            " block4_conv1 (Conv2D)       (None, 28, 28, 512)       1180160   \n",
            "                                                                 \n",
            " block4_conv2 (Conv2D)       (None, 28, 28, 512)       2359808   \n",
            "                                                                 \n",
            " block4_conv3 (Conv2D)       (None, 28, 28, 512)       2359808   \n",
            "                                                                 \n",
            " block4_pool (MaxPooling2D)  (None, 14, 14, 512)       0         \n",
            "                                                                 \n",
            " block5_conv1 (Conv2D)       (None, 14, 14, 512)       2359808   \n",
            "                                                                 \n",
            " block5_conv2 (Conv2D)       (None, 14, 14, 512)       2359808   \n",
            "                                                                 \n",
            " block5_conv3 (Conv2D)       (None, 14, 14, 512)       2359808   \n",
            "                                                                 \n",
            " block5_pool (MaxPooling2D)  (None, 7, 7, 512)         0         \n",
            "                                                                 \n",
            " flatten (Flatten)           (None, 25088)             0         \n",
            "                                                                 \n",
            " fc1 (Dense)                 (None, 4096)              102764544 \n",
            "                                                                 \n",
            " fc2 (Dense)                 (None, 4096)              16781312  \n",
            "                                                                 \n",
            " predictions (Dense)         (None, 1000)              4097000   \n",
            "                                                                 \n",
            "=================================================================\n",
            "Total params: 138,357,544\n",
            "Trainable params: 138,357,544\n",
            "Non-trainable params: 0\n",
            "_________________________________________________________________\n"
          ]
        }
      ]
    },
    {
      "cell_type": "code",
      "metadata": {
        "colab": {
          "base_uri": "https://localhost:8080/"
        },
        "id": "wUeo_tdGw6ca",
        "outputId": "1242bbc6-01e4-4b60-d456-828fc810ed47"
      },
      "source": [
        "with tf.device('/device:GPU:0'):\n",
        "  model = Sequential()\n",
        "  model.add(Conv2D(256, kernel_size=(3,3),padding=\"same\", input_shape=(target_x,target_y, 1), activation='relu'))\n",
        "  # padding 밸리드= 패팅x, same 은 동일한 패딩을 계속하는 것임.\n",
        "  model.add(Conv2D(128, kernel_size=(3,3), activation='relu'))\n",
        "  model.add(MaxPooling2D(pool_size=2))\n",
        "  model.add(Conv2D(64, kernel_size=(3,3), activation='relu'))\n",
        "  # model.add(MaxPooling2D(pool_size=2))\n",
        "  # model.add(Conv2D(32, kernel_size=(3,3), activation='relu'))\n",
        "  # 위와 같은 형태의 한층을 추가했을 때는 모델의 정확도가 65% 정도 나왔으나, 삭제를 통해 정확도가 급상승\n",
        "\n",
        "  model.add(MaxPooling2D(pool_size=2))\n",
        "  model.add(Dropout(0.20)) #20%는 제외  # 과대 적합 방지용 드롭아웃\n",
        "  model.add(Flatten())\n",
        "  model.add(Dense(256, activation='relu'))\n",
        "  model.add(Dense(128, activation='relu'))\n",
        "  model.add(Dense(64, activation='relu'))\n",
        "  model.add(Dropout(0.20)) #20%는 제외 # 과대 적합 방지용 드롭아웃\n",
        "  model.add(Dense(2, activation='softmax')) \n",
        "  model.compile(loss='categorical_crossentropy',\n",
        "             optimizer='adam',\n",
        "             metrics=['accuracy']) \n",
        "  hist=model.fit(xtrain, ytrain, validation_data=(xval,yval), epochs=200, batch_size=3, callbacks=[cp, esc] )\n",
        "\n",
        "  # history = model.fit_generator(xtrain, ytrain,epochs=20,validation_data=(xtest,ytest)) # ImageDataGenerator 이걸 사용해서 제네레이터로 생성된 경우 fit_generator 사용, 아니면 그냥 fit 사용임.\n",
        "\n",
        "  # gpu 리소스 에러남. 이거 좀 설정해줘야 함. 전체 사이즈를 줄이던가 해야 함. -> 사이즈에서 문제가 생겨서 수정을 가했던 흔적 \n",
        "  # 수정은 약 1차 650-> 512 -> 256 -> 128 -> 64 까지 사이즈 조정 \n",
        "  # 1차로는 전체 파일의 숫자를 주리는 작업도 진행, 이후 3으로 되어있던, 컬러 형태를 1로 작업까지 진행해줌.\n"
      ],
      "execution_count": 704,
      "outputs": [
        {
          "output_type": "stream",
          "name": "stdout",
          "text": [
            "Epoch 1/200\n",
            "735/735 [==============================] - 27s 35ms/step - loss: 0.5809 - accuracy: 0.6993 - val_loss: 0.4772 - val_accuracy: 0.7683\n",
            "Epoch 2/200\n",
            "735/735 [==============================] - 26s 35ms/step - loss: 0.2835 - accuracy: 0.8830 - val_loss: 0.2074 - val_accuracy: 0.8984\n",
            "Epoch 3/200\n",
            "735/735 [==============================] - 26s 35ms/step - loss: 0.1219 - accuracy: 0.9488 - val_loss: 0.1955 - val_accuracy: 0.8984\n",
            "Epoch 4/200\n",
            "735/735 [==============================] - 26s 35ms/step - loss: 0.1221 - accuracy: 0.9596 - val_loss: 0.1650 - val_accuracy: 0.9187\n",
            "Epoch 5/200\n",
            "735/735 [==============================] - 26s 35ms/step - loss: 0.0691 - accuracy: 0.9746 - val_loss: 0.2096 - val_accuracy: 0.9268\n",
            "Epoch 6/200\n",
            "735/735 [==============================] - 26s 35ms/step - loss: 0.0360 - accuracy: 0.9878 - val_loss: 0.3435 - val_accuracy: 0.9187\n",
            "Epoch 7/200\n",
            "735/735 [==============================] - 26s 35ms/step - loss: 0.0866 - accuracy: 0.9810 - val_loss: 0.1370 - val_accuracy: 0.9268\n",
            "Epoch 8/200\n",
            "735/735 [==============================] - 26s 35ms/step - loss: 0.0130 - accuracy: 0.9955 - val_loss: 0.3859 - val_accuracy: 0.9228\n",
            "Epoch 9/200\n",
            "735/735 [==============================] - 26s 35ms/step - loss: 0.0683 - accuracy: 0.9868 - val_loss: 0.2217 - val_accuracy: 0.9024\n",
            "Epoch 10/200\n",
            "735/735 [==============================] - 26s 35ms/step - loss: 0.0390 - accuracy: 0.9927 - val_loss: 0.2590 - val_accuracy: 0.9106\n",
            "Epoch 11/200\n",
            "735/735 [==============================] - 26s 35ms/step - loss: 0.0107 - accuracy: 0.9955 - val_loss: 0.5423 - val_accuracy: 0.9106\n",
            "Epoch 12/200\n",
            "735/735 [==============================] - 26s 35ms/step - loss: 0.0973 - accuracy: 0.9841 - val_loss: 0.2824 - val_accuracy: 0.8862\n",
            "Epoch 13/200\n",
            "735/735 [==============================] - 26s 35ms/step - loss: 0.0320 - accuracy: 0.9918 - val_loss: 0.2542 - val_accuracy: 0.9350\n",
            "Epoch 14/200\n",
            "735/735 [==============================] - 26s 35ms/step - loss: 0.0042 - accuracy: 0.9986 - val_loss: 0.6175 - val_accuracy: 0.9187\n",
            "Epoch 15/200\n",
            "735/735 [==============================] - 26s 35ms/step - loss: 0.0143 - accuracy: 0.9968 - val_loss: 0.9139 - val_accuracy: 0.8902\n",
            "Epoch 16/200\n",
            "735/735 [==============================] - 26s 35ms/step - loss: 0.0170 - accuracy: 0.9973 - val_loss: 0.6846 - val_accuracy: 0.9065\n",
            "Epoch 17/200\n",
            "735/735 [==============================] - 26s 35ms/step - loss: 0.0279 - accuracy: 0.9900 - val_loss: 0.2849 - val_accuracy: 0.9187\n"
          ]
        }
      ]
    },
    {
      "cell_type": "code",
      "metadata": {
        "colab": {
          "base_uri": "https://localhost:8080/",
          "height": 211
        },
        "id": "xoDK8r0Zw6gE",
        "outputId": "cd656fb0-1c9d-47c8-9dcd-eec54336ae92"
      },
      "source": [
        "\n",
        "model_vgg16 = vgg16.VGG16(include_top=False, weights='imagenet',input_shape = (224,224,3))\n",
        "\n",
        "bottleneck_features_train = model.predict_generator( #VGG16을 통해 이미지 특징점 추출 및 저장\n",
        "        generator, generator.samples // batch_size) "
      ],
      "execution_count": 705,
      "outputs": [
        {
          "output_type": "error",
          "ename": "NameError",
          "evalue": "ignored",
          "traceback": [
            "\u001b[0;31m---------------------------------------------------------------------------\u001b[0m",
            "\u001b[0;31mNameError\u001b[0m                                 Traceback (most recent call last)",
            "\u001b[0;32m<ipython-input-705-4f049797565e>\u001b[0m in \u001b[0;36m<module>\u001b[0;34m()\u001b[0m\n\u001b[1;32m      3\u001b[0m \u001b[0;34m\u001b[0m\u001b[0m\n\u001b[1;32m      4\u001b[0m bottleneck_features_train = model.predict_generator( #VGG16을 통해 이미지 특징점 추출 및 저장\n\u001b[0;32m----> 5\u001b[0;31m         generator, generator.samples // batch_size) \n\u001b[0m",
            "\u001b[0;31mNameError\u001b[0m: name 'generator' is not defined"
          ]
        }
      ]
    },
    {
      "cell_type": "code",
      "metadata": {
        "id": "a4X4T90vw6je"
      },
      "source": [
        "from keras.preprocessing.image import ImageDataGenerator\n",
        "from keras import optimizers\n",
        "from keras.models import Sequential\n",
        "from keras.layers import Dropout, Flatten, Dense\n",
        "from keras.models import Model\n",
        "from keras import models\n",
        "from keras import layers\n",
        "from keras import optimizers\n",
        "import keras.backend as K"
      ],
      "execution_count": 706,
      "outputs": []
    },
    {
      "cell_type": "code",
      "metadata": {
        "colab": {
          "base_uri": "https://localhost:8080/"
        },
        "id": "aprm4Ac2uLE7",
        "outputId": "3860e3e9-2266-45e8-dba4-a98c4042bd24"
      },
      "source": [
        "conv_layers = vgg16.VGG16(weights='imagenet', include_top=False, input_shape=(target_x,target_y, 3))\n",
        "conv_layers.summary()"
      ],
      "execution_count": 715,
      "outputs": [
        {
          "output_type": "stream",
          "name": "stdout",
          "text": [
            "Model: \"vgg16\"\n",
            "_________________________________________________________________\n",
            " Layer (type)                Output Shape              Param #   \n",
            "=================================================================\n",
            " input_9 (InputLayer)        [(None, 224, 224, 3)]     0         \n",
            "                                                                 \n",
            " block1_conv1 (Conv2D)       (None, 224, 224, 64)      1792      \n",
            "                                                                 \n",
            " block1_conv2 (Conv2D)       (None, 224, 224, 64)      36928     \n",
            "                                                                 \n",
            " block1_pool (MaxPooling2D)  (None, 112, 112, 64)      0         \n",
            "                                                                 \n",
            " block2_conv1 (Conv2D)       (None, 112, 112, 128)     73856     \n",
            "                                                                 \n",
            " block2_conv2 (Conv2D)       (None, 112, 112, 128)     147584    \n",
            "                                                                 \n",
            " block2_pool (MaxPooling2D)  (None, 56, 56, 128)       0         \n",
            "                                                                 \n",
            " block3_conv1 (Conv2D)       (None, 56, 56, 256)       295168    \n",
            "                                                                 \n",
            " block3_conv2 (Conv2D)       (None, 56, 56, 256)       590080    \n",
            "                                                                 \n",
            " block3_conv3 (Conv2D)       (None, 56, 56, 256)       590080    \n",
            "                                                                 \n",
            " block3_pool (MaxPooling2D)  (None, 28, 28, 256)       0         \n",
            "                                                                 \n",
            " block4_conv1 (Conv2D)       (None, 28, 28, 512)       1180160   \n",
            "                                                                 \n",
            " block4_conv2 (Conv2D)       (None, 28, 28, 512)       2359808   \n",
            "                                                                 \n",
            " block4_conv3 (Conv2D)       (None, 28, 28, 512)       2359808   \n",
            "                                                                 \n",
            " block4_pool (MaxPooling2D)  (None, 14, 14, 512)       0         \n",
            "                                                                 \n",
            " block5_conv1 (Conv2D)       (None, 14, 14, 512)       2359808   \n",
            "                                                                 \n",
            " block5_conv2 (Conv2D)       (None, 14, 14, 512)       2359808   \n",
            "                                                                 \n",
            " block5_conv3 (Conv2D)       (None, 14, 14, 512)       2359808   \n",
            "                                                                 \n",
            " block5_pool (MaxPooling2D)  (None, 7, 7, 512)         0         \n",
            "                                                                 \n",
            "=================================================================\n",
            "Total params: 14,714,688\n",
            "Trainable params: 14,714,688\n",
            "Non-trainable params: 0\n",
            "_________________________________________________________________\n"
          ]
        }
      ]
    },
    {
      "cell_type": "code",
      "metadata": {
        "id": "0ajD3PL0uLI8"
      },
      "source": [
        "# Convolution Layer를 학습되지 않도록 고정 \n",
        "for layer in conv_layers.layers:\n",
        "    layer.trainable = False\n"
      ],
      "execution_count": 709,
      "outputs": []
    },
    {
      "cell_type": "code",
      "metadata": {
        "id": "DYDeiOcmuLNH"
      },
      "source": [
        "# 새로운 모델 생성하기\n",
        "\n",
        "model = models.Sequential()"
      ],
      "execution_count": 710,
      "outputs": []
    },
    {
      "cell_type": "code",
      "metadata": {
        "id": "EjaX9HA6ugKQ"
      },
      "source": [
        "# VGG16모델의 Convolution Layer를 추가\n",
        "model.add(conv_layers)"
      ],
      "execution_count": 711,
      "outputs": []
    },
    {
      "cell_type": "code",
      "metadata": {
        "id": "isonZ4RhugN9"
      },
      "source": [
        "# 모델의 Fully Connected 부분을 재구성\n",
        "model.add(layers.Flatten())\n",
        "model.add(layers.Dense(1024, activation='relu'))\n",
        "model.add(layers.Dense(256, activation='relu'))\n",
        "model.add(layers.Dense(128, activation='relu'))\n",
        "model.add(layers.Dropout(0.5))\n",
        "model.add(layers.Dense(2, activation='softmax'))\n"
      ],
      "execution_count": 712,
      "outputs": []
    },
    {
      "cell_type": "code",
      "metadata": {
        "colab": {
          "base_uri": "https://localhost:8080/",
          "height": 845
        },
        "id": "2ZMCtR9IugWO",
        "outputId": "64e13798-4414-4cb6-951a-635ace6bbd36"
      },
      "source": [
        "model.compile(loss='categorical_crossentropy',optimizer='adam',\n",
        "             metrics=['accuracy']) \n",
        "hist=model.fit(xtrain, ytrain, validation_data=(xval,yval), epochs=200, batch_size=3, callbacks=[cp, esc] )\n"
      ],
      "execution_count": 713,
      "outputs": [
        {
          "output_type": "stream",
          "name": "stdout",
          "text": [
            "Epoch 1/200\n",
            "WARNING:tensorflow:Model was constructed with shape (None, 224, 224, 3) for input KerasTensor(type_spec=TensorSpec(shape=(None, 224, 224, 3), dtype=tf.float32, name='vgg16_input'), name='vgg16_input', description=\"created by layer 'vgg16_input'\"), but it was called on an input with incompatible shape (3, 224, 224, 1).\n",
            "WARNING:tensorflow:Model was constructed with shape (None, 224, 224, 3) for input KerasTensor(type_spec=TensorSpec(shape=(None, 224, 224, 3), dtype=tf.float32, name='input_8'), name='input_8', description=\"created by layer 'input_8'\"), but it was called on an input with incompatible shape (3, 224, 224, 1).\n"
          ]
        },
        {
          "output_type": "error",
          "ename": "ValueError",
          "evalue": "ignored",
          "traceback": [
            "\u001b[0;31m---------------------------------------------------------------------------\u001b[0m",
            "\u001b[0;31mValueError\u001b[0m                                Traceback (most recent call last)",
            "\u001b[0;32m<ipython-input-713-57f1acf15786>\u001b[0m in \u001b[0;36m<module>\u001b[0;34m()\u001b[0m\n\u001b[1;32m      1\u001b[0m model.compile(loss='categorical_crossentropy',optimizer='adam',\n\u001b[1;32m      2\u001b[0m              metrics=['accuracy']) \n\u001b[0;32m----> 3\u001b[0;31m \u001b[0mhist\u001b[0m\u001b[0;34m=\u001b[0m\u001b[0mmodel\u001b[0m\u001b[0;34m.\u001b[0m\u001b[0mfit\u001b[0m\u001b[0;34m(\u001b[0m\u001b[0mxtrain\u001b[0m\u001b[0;34m,\u001b[0m \u001b[0mytrain\u001b[0m\u001b[0;34m,\u001b[0m \u001b[0mvalidation_data\u001b[0m\u001b[0;34m=\u001b[0m\u001b[0;34m(\u001b[0m\u001b[0mxval\u001b[0m\u001b[0;34m,\u001b[0m\u001b[0myval\u001b[0m\u001b[0;34m)\u001b[0m\u001b[0;34m,\u001b[0m \u001b[0mepochs\u001b[0m\u001b[0;34m=\u001b[0m\u001b[0;36m200\u001b[0m\u001b[0;34m,\u001b[0m \u001b[0mbatch_size\u001b[0m\u001b[0;34m=\u001b[0m\u001b[0;36m3\u001b[0m\u001b[0;34m,\u001b[0m \u001b[0mcallbacks\u001b[0m\u001b[0;34m=\u001b[0m\u001b[0;34m[\u001b[0m\u001b[0mcp\u001b[0m\u001b[0;34m,\u001b[0m \u001b[0mesc\u001b[0m\u001b[0;34m]\u001b[0m \u001b[0;34m)\u001b[0m\u001b[0;34m\u001b[0m\u001b[0;34m\u001b[0m\u001b[0m\n\u001b[0m",
            "\u001b[0;32m/usr/local/lib/python3.7/dist-packages/keras/utils/traceback_utils.py\u001b[0m in \u001b[0;36merror_handler\u001b[0;34m(*args, **kwargs)\u001b[0m\n\u001b[1;32m     65\u001b[0m     \u001b[0;32mexcept\u001b[0m \u001b[0mException\u001b[0m \u001b[0;32mas\u001b[0m \u001b[0me\u001b[0m\u001b[0;34m:\u001b[0m  \u001b[0;31m# pylint: disable=broad-except\u001b[0m\u001b[0;34m\u001b[0m\u001b[0;34m\u001b[0m\u001b[0m\n\u001b[1;32m     66\u001b[0m       \u001b[0mfiltered_tb\u001b[0m \u001b[0;34m=\u001b[0m \u001b[0m_process_traceback_frames\u001b[0m\u001b[0;34m(\u001b[0m\u001b[0me\u001b[0m\u001b[0;34m.\u001b[0m\u001b[0m__traceback__\u001b[0m\u001b[0;34m)\u001b[0m\u001b[0;34m\u001b[0m\u001b[0;34m\u001b[0m\u001b[0m\n\u001b[0;32m---> 67\u001b[0;31m       \u001b[0;32mraise\u001b[0m \u001b[0me\u001b[0m\u001b[0;34m.\u001b[0m\u001b[0mwith_traceback\u001b[0m\u001b[0;34m(\u001b[0m\u001b[0mfiltered_tb\u001b[0m\u001b[0;34m)\u001b[0m \u001b[0;32mfrom\u001b[0m \u001b[0;32mNone\u001b[0m\u001b[0;34m\u001b[0m\u001b[0;34m\u001b[0m\u001b[0m\n\u001b[0m\u001b[1;32m     68\u001b[0m     \u001b[0;32mfinally\u001b[0m\u001b[0;34m:\u001b[0m\u001b[0;34m\u001b[0m\u001b[0;34m\u001b[0m\u001b[0m\n\u001b[1;32m     69\u001b[0m       \u001b[0;32mdel\u001b[0m \u001b[0mfiltered_tb\u001b[0m\u001b[0;34m\u001b[0m\u001b[0;34m\u001b[0m\u001b[0m\n",
            "\u001b[0;32m/usr/local/lib/python3.7/dist-packages/tensorflow/python/framework/func_graph.py\u001b[0m in \u001b[0;36mautograph_handler\u001b[0;34m(*args, **kwargs)\u001b[0m\n\u001b[1;32m   1127\u001b[0m           \u001b[0;32mexcept\u001b[0m \u001b[0mException\u001b[0m \u001b[0;32mas\u001b[0m \u001b[0me\u001b[0m\u001b[0;34m:\u001b[0m  \u001b[0;31m# pylint:disable=broad-except\u001b[0m\u001b[0;34m\u001b[0m\u001b[0;34m\u001b[0m\u001b[0m\n\u001b[1;32m   1128\u001b[0m             \u001b[0;32mif\u001b[0m \u001b[0mhasattr\u001b[0m\u001b[0;34m(\u001b[0m\u001b[0me\u001b[0m\u001b[0;34m,\u001b[0m \u001b[0;34m\"ag_error_metadata\"\u001b[0m\u001b[0;34m)\u001b[0m\u001b[0;34m:\u001b[0m\u001b[0;34m\u001b[0m\u001b[0;34m\u001b[0m\u001b[0m\n\u001b[0;32m-> 1129\u001b[0;31m               \u001b[0;32mraise\u001b[0m \u001b[0me\u001b[0m\u001b[0;34m.\u001b[0m\u001b[0mag_error_metadata\u001b[0m\u001b[0;34m.\u001b[0m\u001b[0mto_exception\u001b[0m\u001b[0;34m(\u001b[0m\u001b[0me\u001b[0m\u001b[0;34m)\u001b[0m\u001b[0;34m\u001b[0m\u001b[0;34m\u001b[0m\u001b[0m\n\u001b[0m\u001b[1;32m   1130\u001b[0m             \u001b[0;32melse\u001b[0m\u001b[0;34m:\u001b[0m\u001b[0;34m\u001b[0m\u001b[0;34m\u001b[0m\u001b[0m\n\u001b[1;32m   1131\u001b[0m               \u001b[0;32mraise\u001b[0m\u001b[0;34m\u001b[0m\u001b[0;34m\u001b[0m\u001b[0m\n",
            "\u001b[0;31mValueError\u001b[0m: in user code:\n\n    File \"/usr/local/lib/python3.7/dist-packages/keras/engine/training.py\", line 878, in train_function  *\n        return step_function(self, iterator)\n    File \"/usr/local/lib/python3.7/dist-packages/keras/engine/training.py\", line 867, in step_function  **\n        outputs = model.distribute_strategy.run(run_step, args=(data,))\n    File \"/usr/local/lib/python3.7/dist-packages/keras/engine/training.py\", line 860, in run_step  **\n        outputs = model.train_step(data)\n    File \"/usr/local/lib/python3.7/dist-packages/keras/engine/training.py\", line 808, in train_step\n        y_pred = self(x, training=True)\n    File \"/usr/local/lib/python3.7/dist-packages/keras/utils/traceback_utils.py\", line 67, in error_handler\n        raise e.with_traceback(filtered_tb) from None\n    File \"/usr/local/lib/python3.7/dist-packages/keras/engine/input_spec.py\", line 248, in assert_input_compatibility\n        f'Input {input_index} of layer \"{layer_name}\" is '\n\n    ValueError: Exception encountered when calling layer \"vgg16\" (type Functional).\n    \n    Input 0 of layer \"block1_conv1\" is incompatible with the layer: expected axis -1of input shape to have value 3, but received input with shape (3, 224, 224, 1)\n    \n    Call arguments received:\n      • inputs=tf.Tensor(shape=(3, 224, 224, 1), dtype=float32)\n      • training=True\n      • mask=None\n"
          ]
        }
      ]
    },
    {
      "cell_type": "code",
      "metadata": {
        "id": "SryrDfJGugZ2"
      },
      "source": [
        ""
      ],
      "execution_count": null,
      "outputs": []
    },
    {
      "cell_type": "code",
      "metadata": {
        "id": "X1fMJBTDugej"
      },
      "source": [
        "\n",
        "# 모델\n",
        "model.summary()\n"
      ],
      "execution_count": null,
      "outputs": []
    },
    {
      "cell_type": "code",
      "metadata": {
        "id": "wHF56Qaeugig"
      },
      "source": [
        ""
      ],
      "execution_count": null,
      "outputs": []
    },
    {
      "cell_type": "code",
      "metadata": {
        "id": "p9CGlTOYugnK"
      },
      "source": [
        ""
      ],
      "execution_count": null,
      "outputs": []
    },
    {
      "cell_type": "code",
      "metadata": {
        "id": "BumFgO_DuLSS"
      },
      "source": [
        ""
      ],
      "execution_count": null,
      "outputs": []
    },
    {
      "cell_type": "code",
      "metadata": {
        "id": "hYQo2w4Sw6m3"
      },
      "source": [
        "base_model = InceptionV3(weights='imagenet', include_top=False)"
      ],
      "execution_count": null,
      "outputs": []
    },
    {
      "cell_type": "code",
      "metadata": {
        "id": "VcK16di_w6qP"
      },
      "source": [
        "x = base_model.output\n",
        "x = GlobalAveragePooling2D()(x)"
      ],
      "execution_count": null,
      "outputs": []
    },
    {
      "cell_type": "code",
      "metadata": {
        "id": "TpvmJz5Uw6uk"
      },
      "source": [
        "x = Dense(1024, activation='relu')(x)"
      ],
      "execution_count": null,
      "outputs": []
    },
    {
      "cell_type": "code",
      "metadata": {
        "id": "9jidGntWw6x-"
      },
      "source": [
        "# 로지스틱 레이어를 더합니다 -- 200가지 클래스가 있다고 가정합니다\n",
        "predictions = Dense(200, activation='softmax')(x)\n"
      ],
      "execution_count": null,
      "outputs": []
    },
    {
      "cell_type": "code",
      "metadata": {
        "id": "kua0GkX4w61c"
      },
      "source": [
        ""
      ],
      "execution_count": null,
      "outputs": []
    },
    {
      "cell_type": "code",
      "metadata": {
        "id": "Gx2rZ2wIw64w"
      },
      "source": [
        ""
      ],
      "execution_count": null,
      "outputs": []
    },
    {
      "cell_type": "code",
      "metadata": {
        "id": "GS0qEhyLw68D"
      },
      "source": [
        ""
      ],
      "execution_count": null,
      "outputs": []
    },
    {
      "cell_type": "code",
      "metadata": {
        "id": "yv1kSYuGw6_-"
      },
      "source": [
        ""
      ],
      "execution_count": null,
      "outputs": []
    },
    {
      "cell_type": "code",
      "metadata": {
        "id": "lLnnkS1-w7Eo"
      },
      "source": [
        ""
      ],
      "execution_count": null,
      "outputs": []
    },
    {
      "cell_type": "code",
      "metadata": {
        "id": "uZnHn7XkHQhT"
      },
      "source": [
        ""
      ],
      "execution_count": null,
      "outputs": []
    },
    {
      "cell_type": "code",
      "metadata": {
        "id": "U2LA6bRxHQkI"
      },
      "source": [
        ""
      ],
      "execution_count": null,
      "outputs": []
    },
    {
      "cell_type": "code",
      "metadata": {
        "id": "ZsEvlqBEHQnz"
      },
      "source": [
        ""
      ],
      "execution_count": null,
      "outputs": []
    },
    {
      "cell_type": "code",
      "metadata": {
        "id": "47oiHue4HQqt"
      },
      "source": [
        ""
      ],
      "execution_count": null,
      "outputs": []
    },
    {
      "cell_type": "code",
      "metadata": {
        "id": "HbC5gqj9HQto"
      },
      "source": [
        ""
      ],
      "execution_count": null,
      "outputs": []
    },
    {
      "cell_type": "code",
      "metadata": {
        "id": "bwNi2iiRHQwa"
      },
      "source": [
        ""
      ],
      "execution_count": null,
      "outputs": []
    },
    {
      "cell_type": "code",
      "metadata": {
        "id": "fVbLd8FbHQzZ"
      },
      "source": [
        ""
      ],
      "execution_count": null,
      "outputs": []
    },
    {
      "cell_type": "code",
      "metadata": {
        "id": "AEgWXb_BHQ2s"
      },
      "source": [
        ""
      ],
      "execution_count": null,
      "outputs": []
    },
    {
      "cell_type": "markdown",
      "metadata": {
        "id": "Oq27BO-_aRAP"
      },
      "source": [
        "# 이미지 증식\n"
      ]
    },
    {
      "cell_type": "code",
      "metadata": {
        "id": "Kc68gtl2jBfj"
      },
      "source": [
        ""
      ],
      "execution_count": null,
      "outputs": []
    },
    {
      "cell_type": "code",
      "metadata": {
        "id": "ntBm4kZFjBix"
      },
      "source": [
        "# 증식 이미지 옵션 설정\n",
        "train_datagen=ImageDataGenerator(rotation_range=90,# rotation_range=15 ,0~15도 에서 회전\n",
        "                                 width_shift_range=0.5, # 24*24 24 픽셀임 -> 0.5 0~12 픽셀 이내로 좌/우 이동\n",
        "                                 height_shift_range=0.5, # 위아래 12픽셀씩 이동\n",
        "                                 shear_range= 0.5,\n",
        "                                 zoom_range=0.5, # 1-05 ,1+0.5 안에서 줌 축소. 아니면 최소 [0.2, 5] 최소 0.2~ 5배 까지 이런식도 가능\n",
        "                                 horizontal_flip=True,\n",
        "                                 vertical_flip=True, # 상하,좌우 반전은 항상 해줄 것\n",
        "                                 \n",
        "                                 rescale=1./255) \n",
        "# 255 인 이유는 숫자가 256까지 존재하기 때문임.\n",
        "# 우리는 여기서 정규화만 하고, 이미지에 다른 무언가를 가하지 않음. 회전이나, 이런것도\n",
        "# 사실상 증식된것이 없음.\n",
        "# rotation_range: 정수. 무작위 회전의 각도 범위입니다. 이미지 증식 때 마다 랜덤으로 회전시켜줌"
      ],
      "execution_count": null,
      "outputs": []
    },
    {
      "cell_type": "code",
      "metadata": {
        "id": "t6YBhm2daePe"
      },
      "source": [
        ""
      ],
      "execution_count": null,
      "outputs": []
    },
    {
      "cell_type": "code",
      "metadata": {
        "id": "g6qbr011jBlt"
      },
      "source": [
        "train_generator_1=train_datagen.flow_from_directory( \n",
        "\"/content/drive/MyDrive/파이널 프로젝트_내꺼/CT데이터/1000출혈, 1000정상/Train\", # 이미지 데이터 경로\n",
        "    target_size=(target_x,target_y), # 타겟 사이즈를 내가 알아서 줄 수 있다. 타겟 이미지 크기가 24*24로 조절된다. \n",
        "    batch_size=3, #  폴더에 파일이 15개씩 들어가 있음. 1이면 15번 배치해야 전체데이터를 불러올 수 있음.\n",
        "    # 그러니까 3이면 5번만 불러오면 됨.채널이랑은 다른거임. train 폴더 밑에 있는 모든 폴더에 대해서 한번에 3개씩 파일을 불러옴\n",
        "    class_mode=\"categorical\" # 분류를 어떤식으로 하겠느냐? categorical 다중 분류, binary 는 이진분류\n",
        "    \n",
        "\n",
        ")\n",
        "\n"
      ],
      "execution_count": null,
      "outputs": []
    },
    {
      "cell_type": "code",
      "metadata": {
        "id": "ySCTqnBb7HK-"
      },
      "source": [
        ""
      ],
      "execution_count": null,
      "outputs": []
    },
    {
      "cell_type": "code",
      "metadata": {
        "id": "YUSvNrR7g3Q-"
      },
      "source": [
        ""
      ],
      "execution_count": null,
      "outputs": []
    },
    {
      "cell_type": "code",
      "metadata": {
        "id": "2TvZP5i8jBoZ"
      },
      "source": [
        "test_datagen=ImageDataGenerator(rescale=1./255) # 255 인 이유는 숫자가 256까지 존재하기 때문임.\n"
      ],
      "execution_count": null,
      "outputs": []
    },
    {
      "cell_type": "code",
      "metadata": {
        "id": "EKpBZWa4jBrS"
      },
      "source": [
        "test_generator=test_datagen.flow_from_directory( \n",
        "\"/content/drive/MyDrive/파이널 프로젝트_내꺼/CT데이터/1000출혈, 1000정상/Test\", # 이미지 데이터 경로\n",
        "    target_size=(target_x,target_y), # 타겟 사이즈를 내가 알아서 줄 수 있다. 타겟 이미지 크기가 24*24로 조절된다. \n",
        "    batch_size=3, #  폴더에 파일이 15개씩 들어가 있음. 1이면 15번 배치해야 전체데이터를 불러올 수 있음.\n",
        "    # 그러니까 3이면 5번만 불러오면 됨.채널이랑은 다른거임. train 폴더 밑에 있는 모든 폴더에 대해서 한번에 3개씩 파일을 불러옴\n",
        "    class_mode=\"categorical\" # 분류를 어떤식으로 하겠느냐? categorical 다중 분류, binary 는 이진분류\n",
        "    \n",
        "\n",
        ")"
      ],
      "execution_count": null,
      "outputs": []
    },
    {
      "cell_type": "code",
      "metadata": {
        "id": "ZANTM0JujBx2"
      },
      "source": [
        ""
      ],
      "execution_count": null,
      "outputs": []
    },
    {
      "cell_type": "code",
      "metadata": {
        "id": "7txob4xSjB1K"
      },
      "source": [
        ""
      ],
      "execution_count": null,
      "outputs": []
    },
    {
      "cell_type": "code",
      "metadata": {
        "id": "jaRjq8CijB4M"
      },
      "source": [
        "with tf.device('/device:GPU:0'):\n",
        "  model = Sequential()\n",
        "  model.add(Conv2D(256, kernel_size=(3,3),padding=\"same\", input_shape=(target_x,target_y, 1), activation='relu'))\n",
        "  # padding 밸리드= 패팅x, same 은 동일한 패딩을 계속하는 것임.\n",
        "  model.add(Conv2D(128, kernel_size=(3,3), activation='relu'))\n",
        "  model.add(MaxPooling2D(pool_size=2))\n",
        "  model.add(Conv2D(64, kernel_size=(3,3), activation='relu'))\n",
        "  # model.add(MaxPooling2D(pool_size=2))\n",
        "  # model.add(Conv2D(32, kernel_size=(3,3), activation='relu'))\n",
        "  model.add(MaxPooling2D(pool_size=2))\n",
        "  model.add(Dropout(0.20)) #20%는 제외\n",
        "  model.add(Flatten())\n",
        "  model.add(Dense(256, activation='relu'))\n",
        "  model.add(Dense(128, activation='relu'))\n",
        "  model.add(Dense(64, activation='relu'))\n",
        "  model.add(Dropout(0.20)) #20%는 제외\n",
        "  model.add(Dense(2, activation='softmax')) \n",
        "  model.compile(loss='categorical_crossentropy',\n",
        "             optimizer='adam',\n",
        "             metrics=['accuracy']) # mae, rmse, recall, auc -> 경험적인것 \n",
        "  # history=model.fit_generator(train_generator, ytrain, validation_data=(xval,yval), epochs=200, batch_size=3, callbacks=[cp, esc] )\n",
        "  # history = model.fit_generator(xtrain, ytrain,epochs=20,validation_data=(xtest,ytest)) # ImageDataGenerator 이걸 사용해서 제네레이터로 생성된 경우 fit_generator 사용, 아니면 그냥 fit 사용임.\n",
        "\n",
        "  # gpu 리소트 에러남. 이거 좀 설정해줘야 함. 전체 사이즈를 줄이던가 해야 함.\n",
        "\n",
        "  model.fit_generator(train_generator_1,steps_per_epoch=81, # 1에포크 동안 제너레이터에서 생성할 샘플의 총 개수 보통 데이터 총수/ 배치크기 45/3 = 15 정도 줌\n",
        "    # 45개의 이미지가 있음. 3개폴더 15개씩\n",
        "    epochs=30, # 전체 훈련 수\n",
        "    validation_data=test_generator,# 밸리데이션 데이터, 밸리데이션 스텝\n",
        "    validation_steps=15) # 15개 점증데이터가 존재, 배치사이즈 3 이므로 5스탭 15/3 한 에포크 마다 몇개씩 검증할지"
      ],
      "execution_count": null,
      "outputs": []
    },
    {
      "cell_type": "code",
      "metadata": {
        "id": "j9Wzf8bwjB7W"
      },
      "source": [
        "250/3"
      ],
      "execution_count": null,
      "outputs": []
    },
    {
      "cell_type": "code",
      "metadata": {
        "id": "gLf2bOECjCBK"
      },
      "source": [
        "model.summary() "
      ],
      "execution_count": null,
      "outputs": []
    },
    {
      "cell_type": "code",
      "metadata": {
        "id": "_0M4M8dxjCD_"
      },
      "source": [
        ""
      ],
      "execution_count": null,
      "outputs": []
    },
    {
      "cell_type": "code",
      "metadata": {
        "id": "Hzc-PDqhjCGw"
      },
      "source": [
        ""
      ],
      "execution_count": null,
      "outputs": []
    },
    {
      "cell_type": "code",
      "metadata": {
        "id": "-f5HX82SjCJj"
      },
      "source": [
        ""
      ],
      "execution_count": null,
      "outputs": []
    },
    {
      "cell_type": "code",
      "metadata": {
        "id": "JxvOnxvljCMf"
      },
      "source": [
        ""
      ],
      "execution_count": null,
      "outputs": []
    },
    {
      "cell_type": "code",
      "metadata": {
        "id": "K9Vxzz9AjCPb"
      },
      "source": [
        ""
      ],
      "execution_count": null,
      "outputs": []
    },
    {
      "cell_type": "code",
      "metadata": {
        "id": "-DJMzsWajCSD"
      },
      "source": [
        ""
      ],
      "execution_count": null,
      "outputs": []
    }
  ]
}